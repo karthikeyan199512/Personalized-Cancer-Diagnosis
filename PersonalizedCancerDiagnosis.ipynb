{
 "cells": [
  {
   "cell_type": "markdown",
   "metadata": {
    "id": "xCjRvTxKOQuR"
   },
   "source": [
    "\n",
    "\n",
    "\n",
    "<p style=\"font-size:36px;text-align:center\"> <b>Personalized Medicine: Redefining Cancer Treatment</b> </p>"
   ]
  },
  {
   "cell_type": "markdown",
   "metadata": {
    "id": "ylEEdGq_OQuU"
   },
   "source": [
    "<h1>1. Business Problem</h1>"
   ]
  },
  {
   "cell_type": "markdown",
   "metadata": {
    "id": "enOmIXotOQuV"
   },
   "source": [
    "<h2>1.1. Description</h2>"
   ]
  },
  {
   "cell_type": "markdown",
   "metadata": {
    "id": "_8luKZvfOQuX"
   },
   "source": [
    "Once sequenced, a cancer tumor can have thousands of genetic mutations. But the challenge is distinguishing the mutations that contribute to tumor growth (drivers) from the neutral mutations (passengers). \n",
    "\n",
    "Currently this interpretation of genetic mutations is being done manually. This is a very time-consuming task where a clinical pathologist has to manually review and classify every single genetic mutation based on evidence from text-based clinical literature.\n",
    "\n",
    "<p> Source: https://www.kaggle.com/c/msk-redefining-cancer-treatment/ </p>\n",
    "<p> Data: Memorial Sloan Kettering Cancer Center (MSKCC)</p>\n",
    "<p> Download training_variants.zip and training_text.zip from Kaggle.</p> \n",
    "\n",
    "<h6> Context:</h6>\n",
    "<p> Source: https://www.kaggle.com/c/msk-redefining-cancer-treatment/discussion/35336#198462\n",
    "\n",
    "The workflow is as follows\n",
    "\n",
    "1. A molecular pathologist selects a list of genetic variations of interest that he/she want to analyze\n",
    "2. The molecular pathologist searches for evidence in the medical literature that somehow are relevant to the genetic variations of interest\n",
    "3. Finally this molecular pathologist spends a huge amount of time analyzing the evidence related to each of the variations to classify them\n",
    "\n",
    "Our goal here is to replace step 3 by a machine learning model. The molecular pathologist will still have to decide which variations are of interest, and also collect the relevant evidence for them. But the last step, which is also the most time consuming, will be fully automated.\n",
    "</p>\n",
    "\n",
    "<h3> Problem statement : </h3>\n",
    "<p> Classify the given genetic variations/mutations based on evidence from text-based clinical literature. </p>"
   ]
  },
  {
   "cell_type": "markdown",
   "metadata": {
    "id": "0QJkDkarOQuc"
   },
   "source": [
    "<h2>1.3. Real-world/Business objectives and constraints.</h2>"
   ]
  },
  {
   "cell_type": "markdown",
   "metadata": {
    "id": "CCLeDepSOQuc"
   },
   "source": [
    "* No low-latency requirement.\n",
    "* Interpretability is important.\n",
    "* Errors can be very costly.\n",
    "* Probability of a data-point belonging to each class is needed."
   ]
  },
  {
   "cell_type": "markdown",
   "metadata": {
    "id": "3AD25TPFOQud"
   },
   "source": [
    "<h1>2. Machine Learning Problem Formulation</h1>"
   ]
  },
  {
   "cell_type": "markdown",
   "metadata": {
    "id": "kJilLeTgOQuf"
   },
   "source": [
    "<h2>2.1. Data</h2>"
   ]
  },
  {
   "cell_type": "markdown",
   "metadata": {
    "id": "GAkBG-9JOQuf"
   },
   "source": [
    "<h3>2.1.1. Data Overview</h3>"
   ]
  },
  {
   "cell_type": "markdown",
   "metadata": {
    "id": "_xgJzFEHOQuh"
   },
   "source": [
    "- Source: https://www.kaggle.com/c/msk-redefining-cancer-treatment/data\n",
    "- We have two data files: one conatins the information about the genetic mutations and the other contains the clinical evidence (text) that  human experts/pathologists use to classify the genetic mutations. \n",
    "- Both these data files are have a common column called ID\n",
    "- <p> \n",
    "    Data file's information:\n",
    "    <ul> \n",
    "        <li>\n",
    "        training_variants (ID , Gene, Variations, Class)\n",
    "        </li>\n",
    "        <li>\n",
    "        training_text (ID, Text)\n",
    "        </li>\n",
    "    </ul>\n",
    "</p>"
   ]
  },
  {
   "cell_type": "markdown",
   "metadata": {
    "id": "lUV7vz1iOQui"
   },
   "source": [
    "<h3>2.1.2. Example Data Point</h3>"
   ]
  },
  {
   "cell_type": "markdown",
   "metadata": {
    "id": "t4UYmjTIOQuj"
   },
   "source": [
    "<h6>training_variants</h6>\n",
    "<hr>\n",
    "ID,Gene,Variation,Class<br>\n",
    "0,FAM58A,Truncating Mutations,1 <br>\n",
    "1,CBL,W802*,2 <br>\n",
    "2,CBL,Q249E,2 <br>\n",
    "...\n",
    "\n",
    "<h6> training_text</h6>\n",
    "<hr>\n",
    "ID,Text <br>\n",
    "0||Cyclin-dependent kinases (CDKs) regulate a variety of fundamental cellular processes. CDK10 stands out as one of the last orphan CDKs for which no activating cyclin has been identified and no kinase activity revealed. Previous work has shown that CDK10 silencing increases ETS2 (v-ets erythroblastosis virus E26 oncogene homolog 2)-driven activation of the MAPK pathway, which confers tamoxifen resistance to breast cancer cells. The precise mechanisms by which CDK10 modulates ETS2 activity, and more generally the functions of CDK10, remain elusive. Here we demonstrate that CDK10 is a cyclin-dependent kinase by identifying cyclin M as an activating cyclin. Cyclin M, an orphan cyclin, is the product of FAM58A, whose mutations cause STAR syndrome, a human developmental anomaly whose features include toe syndactyly, telecanthus, and anogenital and renal malformations. We show that STAR syndrome-associated cyclin M mutants are unable to interact with CDK10. Cyclin M silencing phenocopies CDK10 silencing in increasing c-Raf and in conferring tamoxifen resistance to breast cancer cells. CDK10/cyclin M phosphorylates ETS2 in vitro, and in cells it positively controls ETS2 degradation by the proteasome. ETS2 protein levels are increased in cells derived from a STAR patient, and this increase is attributable to decreased cyclin M levels. Altogether, our results reveal an additional regulatory mechanism for ETS2, which plays key roles in cancer and development. They also shed light on the molecular mechanisms underlying STAR syndrome.Cyclin-dependent kinases (CDKs) play a pivotal role in the control of a number of fundamental cellular processes (1). The human genome contains 21 genes encoding proteins that can be considered as members of the CDK family owing to their sequence similarity with bona fide CDKs, those known to be activated by cyclins (2). Although discovered almost 20 y ago (3, 4), CDK10 remains one of the two CDKs without an identified cyclin partner. This knowledge gap has largely impeded the exploration of its biological functions. CDK10 can act as a positive cell cycle regulator in some cells (5, 6) or as a tumor suppressor in others (7, 8). CDK10 interacts with the ETS2 (v-ets erythroblastosis virus E26 oncogene homolog 2) transcription factor and inhibits its transcriptional activity through an unknown mechanism (9). CDK10 knockdown derepresses ETS2, which increases the expression of the c-Raf protein kinase, activates the MAPK pathway, and induces resistance of MCF7 cells to tamoxifen (6). ... "
   ]
  },
  {
   "cell_type": "markdown",
   "metadata": {
    "id": "R3_NkUmXOQuk"
   },
   "source": [
    "<h2>2.2. Mapping the real-world problem to an ML problem</h2>"
   ]
  },
  {
   "cell_type": "markdown",
   "metadata": {
    "id": "89xF097mOQum"
   },
   "source": [
    "<h3>2.2.1. Type of Machine Learning Problem</h3>"
   ]
  },
  {
   "cell_type": "markdown",
   "metadata": {
    "id": "TZqA3ItzOQun"
   },
   "source": [
    "<p>There are nine different classes a genetic mutation can be classified into => Multi class classification problem</p>"
   ]
  },
  {
   "cell_type": "markdown",
   "metadata": {
    "id": "9uokTUjYOQuo"
   },
   "source": [
    "<h3>2.2.2. Performance Metric</h3>"
   ]
  },
  {
   "cell_type": "markdown",
   "metadata": {
    "id": "kg0MC7b6OQup"
   },
   "source": [
    "Source: https://www.kaggle.com/c/msk-redefining-cancer-treatment#evaluation\n",
    "\n",
    "Metric(s): \n",
    "* Multi class log-loss \n",
    "* Confusion matrix \n"
   ]
  },
  {
   "cell_type": "markdown",
   "metadata": {
    "id": "2rqQ1-rkOQuq"
   },
   "source": [
    "<h3>2.2.3. Machine Learing Objectives and Constraints</h3>"
   ]
  },
  {
   "cell_type": "markdown",
   "metadata": {
    "id": "Kn3tUsrjOQur"
   },
   "source": [
    "**Objective**: Predict the probability of each data-point belonging to each of the nine classes.\n",
    "\n",
    "**Constraints**:\n",
    "* Interpretability is very important.\n",
    "* Class probabilities are needed and penalize the errors in class probabilites\n",
    "* No Latency constraints."
   ]
  },
  {
   "cell_type": "markdown",
   "metadata": {
    "id": "j0VVGc0_OQuu"
   },
   "source": [
    "<h1>3. Exploratory Data Analysis</h1>"
   ]
  },
  {
   "cell_type": "code",
   "execution_count": 1,
   "metadata": {
    "id": "6_tz3SlAOQuv"
   },
   "outputs": [
    {
     "name": "stderr",
     "output_type": "stream",
     "text": [
      "C:\\Users\\Karthik\\Anaconda3\\lib\\site-packages\\sklearn\\utils\\deprecation.py:144: FutureWarning: The sklearn.metrics.classification module is  deprecated in version 0.22 and will be removed in version 0.24. The corresponding classes / functions should instead be imported from sklearn.metrics. Anything that cannot be imported from sklearn.metrics is now part of the private API.\n",
      "  warnings.warn(message, FutureWarning)\n"
     ]
    }
   ],
   "source": [
    "import pandas as pd\n",
    "import matplotlib.pyplot as plt\n",
    "import re\n",
    "import time\n",
    "import warnings\n",
    "import numpy as np\n",
    "from nltk.corpus import stopwords\n",
    "from sklearn.feature_extraction.text import CountVectorizer\n",
    "import seaborn as sns\n",
    "from sklearn.neighbors import KNeighborsClassifier\n",
    "from sklearn.metrics import confusion_matrix\n",
    "from sklearn.metrics.classification import accuracy_score, log_loss\n",
    "from sklearn.feature_extraction.text import TfidfVectorizer\n",
    "from sklearn.svm import SVC\n",
    "from sklearn.naive_bayes import MultinomialNB\n",
    "from sklearn.naive_bayes import GaussianNB\n",
    "from sklearn.calibration import CalibratedClassifierCV\n",
    "from sklearn.model_selection import train_test_split\n",
    "from sklearn.model_selection import GridSearchCV\n",
    "import math\n",
    "from sklearn.ensemble import RandomForestClassifier\n",
    "warnings.filterwarnings(\"ignore\")\n",
    "from sklearn import model_selection\n",
    "from sklearn.linear_model import LogisticRegression\n",
    "from collections import Counter\n",
    "from sklearn.preprocessing import normalize"
   ]
  },
  {
   "cell_type": "markdown",
   "metadata": {
    "id": "M7AMKFKcOQu1"
   },
   "source": [
    "<h2>3.1. Reading Data</h2>"
   ]
  },
  {
   "cell_type": "markdown",
   "metadata": {
    "id": "aBdBb2H3OQu2"
   },
   "source": [
    "<h3>3.1.1. Reading Gene and Variation Data</h3>"
   ]
  },
  {
   "cell_type": "code",
   "execution_count": 83,
   "metadata": {
    "id": "0Os-owW1OQu2",
    "outputId": "ff8ef255-d908-403a-f72a-1eef6225ba7f"
   },
   "outputs": [
    {
     "name": "stdout",
     "output_type": "stream",
     "text": [
      "Number of data points :  3321\n",
      "Number of features :  4\n",
      "Features :  ['ID' 'Gene' 'Variation' 'Class']\n"
     ]
    },
    {
     "data": {
      "text/html": [
       "<div>\n",
       "<style scoped>\n",
       "    .dataframe tbody tr th:only-of-type {\n",
       "        vertical-align: middle;\n",
       "    }\n",
       "\n",
       "    .dataframe tbody tr th {\n",
       "        vertical-align: top;\n",
       "    }\n",
       "\n",
       "    .dataframe thead th {\n",
       "        text-align: right;\n",
       "    }\n",
       "</style>\n",
       "<table border=\"1\" class=\"dataframe\">\n",
       "  <thead>\n",
       "    <tr style=\"text-align: right;\">\n",
       "      <th></th>\n",
       "      <th>ID</th>\n",
       "      <th>Gene</th>\n",
       "      <th>Variation</th>\n",
       "      <th>Class</th>\n",
       "    </tr>\n",
       "  </thead>\n",
       "  <tbody>\n",
       "    <tr>\n",
       "      <td>0</td>\n",
       "      <td>0</td>\n",
       "      <td>FAM58A</td>\n",
       "      <td>Truncating Mutations</td>\n",
       "      <td>1</td>\n",
       "    </tr>\n",
       "    <tr>\n",
       "      <td>1</td>\n",
       "      <td>1</td>\n",
       "      <td>CBL</td>\n",
       "      <td>W802*</td>\n",
       "      <td>2</td>\n",
       "    </tr>\n",
       "    <tr>\n",
       "      <td>2</td>\n",
       "      <td>2</td>\n",
       "      <td>CBL</td>\n",
       "      <td>Q249E</td>\n",
       "      <td>2</td>\n",
       "    </tr>\n",
       "    <tr>\n",
       "      <td>3</td>\n",
       "      <td>3</td>\n",
       "      <td>CBL</td>\n",
       "      <td>N454D</td>\n",
       "      <td>3</td>\n",
       "    </tr>\n",
       "    <tr>\n",
       "      <td>4</td>\n",
       "      <td>4</td>\n",
       "      <td>CBL</td>\n",
       "      <td>L399V</td>\n",
       "      <td>4</td>\n",
       "    </tr>\n",
       "  </tbody>\n",
       "</table>\n",
       "</div>"
      ],
      "text/plain": [
       "   ID    Gene             Variation  Class\n",
       "0   0  FAM58A  Truncating Mutations      1\n",
       "1   1     CBL                 W802*      2\n",
       "2   2     CBL                 Q249E      2\n",
       "3   3     CBL                 N454D      3\n",
       "4   4     CBL                 L399V      4"
      ]
     },
     "execution_count": 83,
     "metadata": {},
     "output_type": "execute_result"
    }
   ],
   "source": [
    "data = pd.read_csv('training_variants')\n",
    "print('Number of data points : ', data.shape[0])\n",
    "print('Number of features : ', data.shape[1])\n",
    "print('Features : ', data.columns.values)\n",
    "data.head()"
   ]
  },
  {
   "cell_type": "markdown",
   "metadata": {
    "id": "6VYO0fvbOQu8"
   },
   "source": [
    "<p>\n",
    "    training/training_variants is a comma separated file containing the description of the genetic mutations used for training. <br>\n",
    "    Fields are \n",
    "    <ul>\n",
    "        <li><b>ID : </b>the id of the row used to link the mutation to the clinical evidence</li>\n",
    "        <li><b>Gene : </b>the gene where this genetic mutation is located </li>\n",
    "        <li><b>Variation : </b>the aminoacid change for this mutations </li>\n",
    "        <li><b>Class :</b> 1-9 the class this genetic mutation has been classified on</li>\n",
    "    </ul>"
   ]
  },
  {
   "cell_type": "markdown",
   "metadata": {
    "id": "RPubFke6OQu9"
   },
   "source": [
    "<h3>3.1.2. Reading Text Data</h3>"
   ]
  },
  {
   "cell_type": "code",
   "execution_count": 84,
   "metadata": {
    "id": "1i30WJEyOQu9",
    "outputId": "558efb9a-6580-4ff7-a54e-1147907f3afb"
   },
   "outputs": [
    {
     "name": "stdout",
     "output_type": "stream",
     "text": [
      "Number of data points :  3321\n",
      "Number of features :  2\n",
      "Features :  ['ID' 'TEXT']\n"
     ]
    },
    {
     "data": {
      "text/html": [
       "<div>\n",
       "<style scoped>\n",
       "    .dataframe tbody tr th:only-of-type {\n",
       "        vertical-align: middle;\n",
       "    }\n",
       "\n",
       "    .dataframe tbody tr th {\n",
       "        vertical-align: top;\n",
       "    }\n",
       "\n",
       "    .dataframe thead th {\n",
       "        text-align: right;\n",
       "    }\n",
       "</style>\n",
       "<table border=\"1\" class=\"dataframe\">\n",
       "  <thead>\n",
       "    <tr style=\"text-align: right;\">\n",
       "      <th></th>\n",
       "      <th>ID</th>\n",
       "      <th>TEXT</th>\n",
       "    </tr>\n",
       "  </thead>\n",
       "  <tbody>\n",
       "    <tr>\n",
       "      <td>0</td>\n",
       "      <td>0</td>\n",
       "      <td>Cyclin-dependent kinases (CDKs) regulate a var...</td>\n",
       "    </tr>\n",
       "    <tr>\n",
       "      <td>1</td>\n",
       "      <td>1</td>\n",
       "      <td>Abstract Background  Non-small cell lung canc...</td>\n",
       "    </tr>\n",
       "    <tr>\n",
       "      <td>2</td>\n",
       "      <td>2</td>\n",
       "      <td>Abstract Background  Non-small cell lung canc...</td>\n",
       "    </tr>\n",
       "    <tr>\n",
       "      <td>3</td>\n",
       "      <td>3</td>\n",
       "      <td>Recent evidence has demonstrated that acquired...</td>\n",
       "    </tr>\n",
       "    <tr>\n",
       "      <td>4</td>\n",
       "      <td>4</td>\n",
       "      <td>Oncogenic mutations in the monomeric Casitas B...</td>\n",
       "    </tr>\n",
       "  </tbody>\n",
       "</table>\n",
       "</div>"
      ],
      "text/plain": [
       "   ID                                               TEXT\n",
       "0   0  Cyclin-dependent kinases (CDKs) regulate a var...\n",
       "1   1   Abstract Background  Non-small cell lung canc...\n",
       "2   2   Abstract Background  Non-small cell lung canc...\n",
       "3   3  Recent evidence has demonstrated that acquired...\n",
       "4   4  Oncogenic mutations in the monomeric Casitas B..."
      ]
     },
     "execution_count": 84,
     "metadata": {},
     "output_type": "execute_result"
    }
   ],
   "source": [
    "# note the seprator in this file\n",
    "data_text =pd.read_csv(\"training_text\",sep=\"\\|\\|\",engine=\"python\",names=[\"ID\",\"TEXT\"],skiprows=1)\n",
    "print('Number of data points : ', data_text.shape[0])\n",
    "print('Number of features : ', data_text.shape[1])\n",
    "print('Features : ', data_text.columns.values)\n",
    "data_text.head()"
   ]
  },
  {
   "cell_type": "markdown",
   "metadata": {
    "id": "ZSy3O7VvOQvC"
   },
   "source": [
    "<h3>3.1.3. Preprocessing of text</h3>"
   ]
  },
  {
   "cell_type": "code",
   "execution_count": 85,
   "metadata": {},
   "outputs": [],
   "source": [
    "stop_words = stopwords.words('english')\n",
    "from nltk.tokenize import word_tokenize\n",
    "def clean_txt(sent):\n",
    "    #Replacing multiple spaces with a single space\n",
    "    result = re.sub('\\s+',' ',sent)\n",
    "    #Replacing the non-alphanumeric and non space chars with nothing\n",
    "    result1 = re.sub('[^\\s\\w]+',' ',result)\n",
    "    #Normalize case,and remove stop words\n",
    "    tokens = word_tokenize(result1.lower())\n",
    "    final_tokens = [term for term in tokens if term not in stop_words]\n",
    "    #Join all to form a single string which will be returned from the UDF\n",
    "    res = ' '.join(final_tokens)\n",
    "    return res"
   ]
  },
  {
   "cell_type": "code",
   "execution_count": 86,
   "metadata": {},
   "outputs": [
    {
     "name": "stdout",
     "output_type": "stream",
     "text": [
      "Time took for preprocessing the text : 204.91227209999943 seconds\n"
     ]
    }
   ],
   "source": [
    "start_time = time.clock()\n",
    "data_text['TEXT'] = [clean_txt(str(txt)) for txt in data_text['TEXT']]\n",
    "print('Time took for preprocessing the text :',time.clock() - start_time, \"seconds\")"
   ]
  },
  {
   "cell_type": "code",
   "execution_count": 119,
   "metadata": {
    "id": "qk8gHyNhOQvL",
    "outputId": "4d49462b-26e1-4621-8f76-b4b4b65f529d"
   },
   "outputs": [
    {
     "data": {
      "text/html": [
       "<div>\n",
       "<style scoped>\n",
       "    .dataframe tbody tr th:only-of-type {\n",
       "        vertical-align: middle;\n",
       "    }\n",
       "\n",
       "    .dataframe tbody tr th {\n",
       "        vertical-align: top;\n",
       "    }\n",
       "\n",
       "    .dataframe thead th {\n",
       "        text-align: right;\n",
       "    }\n",
       "</style>\n",
       "<table border=\"1\" class=\"dataframe\">\n",
       "  <thead>\n",
       "    <tr style=\"text-align: right;\">\n",
       "      <th></th>\n",
       "      <th>ID</th>\n",
       "      <th>Gene</th>\n",
       "      <th>Variation</th>\n",
       "      <th>Class</th>\n",
       "      <th>TEXT</th>\n",
       "    </tr>\n",
       "  </thead>\n",
       "  <tbody>\n",
       "    <tr>\n",
       "      <td>0</td>\n",
       "      <td>0</td>\n",
       "      <td>FAM58A</td>\n",
       "      <td>Truncating Mutations</td>\n",
       "      <td>1</td>\n",
       "      <td>cyclin dependent kinases cdks regulate variety...</td>\n",
       "    </tr>\n",
       "    <tr>\n",
       "      <td>1</td>\n",
       "      <td>1</td>\n",
       "      <td>CBL</td>\n",
       "      <td>W802*</td>\n",
       "      <td>2</td>\n",
       "      <td>abstract background non small cell lung cancer...</td>\n",
       "    </tr>\n",
       "    <tr>\n",
       "      <td>2</td>\n",
       "      <td>2</td>\n",
       "      <td>CBL</td>\n",
       "      <td>Q249E</td>\n",
       "      <td>2</td>\n",
       "      <td>abstract background non small cell lung cancer...</td>\n",
       "    </tr>\n",
       "    <tr>\n",
       "      <td>3</td>\n",
       "      <td>3</td>\n",
       "      <td>CBL</td>\n",
       "      <td>N454D</td>\n",
       "      <td>3</td>\n",
       "      <td>recent evidence demonstrated acquired uniparen...</td>\n",
       "    </tr>\n",
       "    <tr>\n",
       "      <td>4</td>\n",
       "      <td>4</td>\n",
       "      <td>CBL</td>\n",
       "      <td>L399V</td>\n",
       "      <td>4</td>\n",
       "      <td>oncogenic mutations monomeric casitas b lineag...</td>\n",
       "    </tr>\n",
       "  </tbody>\n",
       "</table>\n",
       "</div>"
      ],
      "text/plain": [
       "   ID    Gene             Variation  Class  \\\n",
       "0   0  FAM58A  Truncating Mutations      1   \n",
       "1   1     CBL                 W802*      2   \n",
       "2   2     CBL                 Q249E      2   \n",
       "3   3     CBL                 N454D      3   \n",
       "4   4     CBL                 L399V      4   \n",
       "\n",
       "                                                TEXT  \n",
       "0  cyclin dependent kinases cdks regulate variety...  \n",
       "1  abstract background non small cell lung cancer...  \n",
       "2  abstract background non small cell lung cancer...  \n",
       "3  recent evidence demonstrated acquired uniparen...  \n",
       "4  oncogenic mutations monomeric casitas b lineag...  "
      ]
     },
     "execution_count": 119,
     "metadata": {},
     "output_type": "execute_result"
    }
   ],
   "source": [
    "#merging both gene_variations and text data based on ID\n",
    "result = pd.merge(data, data_text,on='ID', how='left') # left join since there are some gene and variations that do not have text literature\n",
    "result.head()"
   ]
  },
  {
   "cell_type": "code",
   "execution_count": 120,
   "metadata": {
    "id": "z4ITDIVDOQvQ",
    "outputId": "5e1d0fc8-d0e9-4852-ba3d-18238847e1c6"
   },
   "outputs": [
    {
     "data": {
      "text/html": [
       "<div>\n",
       "<style scoped>\n",
       "    .dataframe tbody tr th:only-of-type {\n",
       "        vertical-align: middle;\n",
       "    }\n",
       "\n",
       "    .dataframe tbody tr th {\n",
       "        vertical-align: top;\n",
       "    }\n",
       "\n",
       "    .dataframe thead th {\n",
       "        text-align: right;\n",
       "    }\n",
       "</style>\n",
       "<table border=\"1\" class=\"dataframe\">\n",
       "  <thead>\n",
       "    <tr style=\"text-align: right;\">\n",
       "      <th></th>\n",
       "      <th>ID</th>\n",
       "      <th>Gene</th>\n",
       "      <th>Variation</th>\n",
       "      <th>Class</th>\n",
       "      <th>TEXT</th>\n",
       "    </tr>\n",
       "  </thead>\n",
       "  <tbody>\n",
       "    <tr>\n",
       "      <td>1109</td>\n",
       "      <td>1109</td>\n",
       "      <td>FANCA</td>\n",
       "      <td>S1088F</td>\n",
       "      <td>1</td>\n",
       "      <td>nan</td>\n",
       "    </tr>\n",
       "    <tr>\n",
       "      <td>1277</td>\n",
       "      <td>1277</td>\n",
       "      <td>ARID5B</td>\n",
       "      <td>Truncating Mutations</td>\n",
       "      <td>1</td>\n",
       "      <td>nan</td>\n",
       "    </tr>\n",
       "    <tr>\n",
       "      <td>1407</td>\n",
       "      <td>1407</td>\n",
       "      <td>FGFR3</td>\n",
       "      <td>K508M</td>\n",
       "      <td>6</td>\n",
       "      <td>nan</td>\n",
       "    </tr>\n",
       "    <tr>\n",
       "      <td>1639</td>\n",
       "      <td>1639</td>\n",
       "      <td>FLT1</td>\n",
       "      <td>Amplification</td>\n",
       "      <td>6</td>\n",
       "      <td>nan</td>\n",
       "    </tr>\n",
       "    <tr>\n",
       "      <td>2755</td>\n",
       "      <td>2755</td>\n",
       "      <td>BRAF</td>\n",
       "      <td>G596C</td>\n",
       "      <td>7</td>\n",
       "      <td>nan</td>\n",
       "    </tr>\n",
       "  </tbody>\n",
       "</table>\n",
       "</div>"
      ],
      "text/plain": [
       "        ID    Gene             Variation  Class TEXT\n",
       "1109  1109   FANCA                S1088F      1  nan\n",
       "1277  1277  ARID5B  Truncating Mutations      1  nan\n",
       "1407  1407   FGFR3                 K508M      6  nan\n",
       "1639  1639    FLT1         Amplification      6  nan\n",
       "2755  2755    BRAF                 G596C      7  nan"
      ]
     },
     "execution_count": 120,
     "metadata": {},
     "output_type": "execute_result"
    }
   ],
   "source": [
    "result[result['TEXT'] == 'nan'] # nan is in lowercase since we have converted all text to lowercase in our clean_txt UDF"
   ]
  },
  {
   "cell_type": "code",
   "execution_count": 121,
   "metadata": {
    "id": "co1v4XZ7OQvU"
   },
   "outputs": [],
   "source": [
    "result['TEXT'].replace('nan',result['Gene'] +' '+result['Variation'],inplace=True)"
   ]
  },
  {
   "cell_type": "code",
   "execution_count": 123,
   "metadata": {
    "id": "TEzTARDBOQvX",
    "outputId": "71774e47-8951-43a7-8ab7-63f3a0616c01"
   },
   "outputs": [],
   "source": [
    "y_true = result['Class'].values"
   ]
  },
  {
   "cell_type": "code",
   "execution_count": 124,
   "metadata": {},
   "outputs": [],
   "source": [
    "result = result.drop('Class',axis=1)"
   ]
  },
  {
   "cell_type": "markdown",
   "metadata": {
    "id": "4ha0M1aOOQvg"
   },
   "source": [
    "<h3>3.1.4. Test, Train and Cross Validation Split</h3>"
   ]
  },
  {
   "cell_type": "markdown",
   "metadata": {
    "id": "Mb_GBIh1OQvi"
   },
   "source": [
    "<h4>3.1.4.1. Splitting data into train, test and cross validation (64:20:16)</h4>"
   ]
  },
  {
   "cell_type": "code",
   "execution_count": 125,
   "metadata": {
    "id": "ijj-MmMwOQvk"
   },
   "outputs": [],
   "source": [
    "# split the data into test and train by maintaining same distribution of output varaible 'y_true' [stratify=y_true]\n",
    "X_train, test_df, y_train, y_test = train_test_split(result, y_true, stratify=y_true, test_size=0.2)\n",
    "# split the train data into train and cross validation by maintaining same distribution of output varaible 'y_train' [stratify=y_train]\n",
    "train_df, cv_df, y_train, y_cv = train_test_split(X_train, y_train, stratify=y_train, test_size=0.2)"
   ]
  },
  {
   "cell_type": "markdown",
   "metadata": {
    "id": "oWPLX4M9OQvo"
   },
   "source": [
    "<p> We split the data into train, test and cross validation data sets, preserving the ratio of class distribution in the original data set  </p>"
   ]
  },
  {
   "cell_type": "code",
   "execution_count": 126,
   "metadata": {
    "id": "wbzQMYZWOQvp",
    "outputId": "3a3df35e-bcfe-4a63-a3fd-e269d6d382e5"
   },
   "outputs": [
    {
     "name": "stdout",
     "output_type": "stream",
     "text": [
      "Number of data points in train data: 2124\n",
      "Number of data points in test data: 665\n",
      "Number of data points in cross validation data: 532\n"
     ]
    }
   ],
   "source": [
    "print('Number of data points in train data:', train_df.shape[0])\n",
    "print('Number of data points in test data:', test_df.shape[0])\n",
    "print('Number of data points in cross validation data:', cv_df.shape[0])"
   ]
  },
  {
   "cell_type": "markdown",
   "metadata": {
    "id": "NQeo-HuDOQvs"
   },
   "source": [
    "<h4>3.1.4.2. Distribution of y_i's in Train, Test and Cross Validation datasets</h4>"
   ]
  },
  {
   "cell_type": "code",
   "execution_count": 136,
   "metadata": {},
   "outputs": [
    {
     "data": {
      "image/png": "[encoded data removed]",
      "text/plain": [
       "<Figure size 432x288 with 1 Axes>"
      ]
     },
     "metadata": {
      "needs_background": "light"
     },
     "output_type": "display_data"
    }
   ],
   "source": [
    "pd.Series(y_train).value_counts().sort_index().plot.bar()\n",
    "plt.ylabel('Data points per Class')\n",
    "plt.title('Distribution of yi in train data')\n",
    "plt.grid()\n",
    "plt.show()"
   ]
  },
  {
   "cell_type": "code",
   "execution_count": 139,
   "metadata": {},
   "outputs": [
    {
     "data": {
      "image/png": "[encoded data removed]",
      "text/plain": [
       "<Figure size 432x288 with 1 Axes>"
      ]
     },
     "metadata": {
      "needs_background": "light"
     },
     "output_type": "display_data"
    }
   ],
   "source": [
    "pd.Series(y_test).value_counts().sort_index().plot.bar()\n",
    "plt.ylabel('Data points per Class')\n",
    "plt.title('Distribution of yi in test data')\n",
    "plt.grid()\n",
    "plt.show()"
   ]
  },
  {
   "cell_type": "code",
   "execution_count": 137,
   "metadata": {},
   "outputs": [
    {
     "data": {
      "image/png": "[encoded data removed]",
      "text/plain": [
       "<Figure size 432x288 with 1 Axes>"
      ]
     },
     "metadata": {
      "needs_background": "light"
     },
     "output_type": "display_data"
    }
   ],
   "source": [
    "pd.Series(y_cv).value_counts().sort_index().plot.bar()\n",
    "plt.ylabel('Data points per Class')\n",
    "plt.title('Distribution of yi in cross validation data')\n",
    "plt.grid()\n",
    "plt.show()"
   ]
  },
  {
   "cell_type": "markdown",
   "metadata": {
    "id": "kSO9RztaOQvw"
   },
   "source": [
    "<h2>3.2 Prediction using a 'Random' Model</h2>"
   ]
  },
  {
   "cell_type": "markdown",
   "metadata": {
    "id": "B7eBGtKAOQvw"
   },
   "source": [
    "<p style=\"font-size:16px\"> In a 'Random' Model, we generate the NINE class probabilites randomly such that they sum to 1. </p>"
   ]
  },
  {
   "cell_type": "code",
   "execution_count": 151,
   "metadata": {
    "id": "VsR6cgBqOQvz",
    "outputId": "90800d35-6083-46b1-ae1e-23624a38ddd4"
   },
   "outputs": [
    {
     "name": "stdout",
     "output_type": "stream",
     "text": [
      "Log loss on Cross Validation Data using Random Model 2.642780092611529\n",
      "Log loss on Test Data using Random Model 2.7490348937391187\n"
     ]
    }
   ],
   "source": [
    "# we need to generate 9 numbers and the sum of numbers should be 1\n",
    "# ref: https://stackoverflow.com/a/18662466/4084039\n",
    "test_data_len = test_df.shape[0]\n",
    "cv_data_len = cv_df.shape[0]\n",
    "\n",
    "# we create a output array that has exactly same size as the CV data\n",
    "cv_predicted_y = np.zeros((cv_data_len,9))\n",
    "for i in range(cv_data_len):\n",
    "    cv_predicted_y[i] = np.random.dirichlet(np.ones(9),1)\n",
    "print(\"Log loss on Cross Validation Data using Random Model\",log_loss(y_cv,cv_predicted_y))\n",
    "\n",
    "\n",
    "# Test-Set error.\n",
    "#we create a output array that has exactly same as the test data\n",
    "test_predicted_y = np.zeros((test_data_len,9))\n",
    "for i in range(test_data_len):\n",
    "    test_predicted_y[i] = np.random.dirichlet(np.ones(9),1)\n",
    "print(\"Log loss on Test Data using Random Model\",log_loss(y_test,test_predicted_y))"
   ]
  },
  {
   "cell_type": "markdown",
   "metadata": {
    "id": "tIy5AKY7OQv2"
   },
   "source": [
    "<h2>3.3 Univariate Analysis</h2>"
   ]
  },
  {
   "cell_type": "code",
   "execution_count": 216,
   "metadata": {
    "id": "glsAAhozOQv3"
   },
   "outputs": [],
   "source": [
    "# code for response coding with Laplace smoothing.\n",
    "# alpha : used for laplace smoothing\n",
    "# feature: ['gene', 'variation']\n",
    "# df: ['train_df', 'test_df', 'cv_df']\n",
    "# algorithm\n",
    "# ----------\n",
    "# Consider all unique values and the number of occurances of given feature in train data dataframe\n",
    "# build a vector (1*9) , the first element = (number of times it occured in class1 + 10*alpha / number of time it occurred in total data+90*alpha)\n",
    "# gv_dict is like a look up table, for every gene it store a (1*9) representation of it\n",
    "# for a value of feature in df:\n",
    "# if it is in train data:\n",
    "# we add the vector that was stored in 'gv_dict' look up table to 'gv_fea'\n",
    "# if it is not there is train:\n",
    "# we add [1/9, 1/9, 1/9, 1/9,1/9, 1/9, 1/9, 1/9, 1/9] to 'gv_fea'\n",
    "# return 'gv_fea'\n",
    "# ----------------------\n",
    "\n",
    "# get_gv_fea_dict: Get Gene varaition Feature Dict\n",
    "def get_gv_fea_dict(alpha, feature, df):\n",
    "    # value_count: it contains a dict like\n",
    "    # print(train_df['Gene'].value_counts())\n",
    "    # output:\n",
    "    #        {BRCA1      174\n",
    "    #         TP53       106\n",
    "    #         EGFR        86\n",
    "    #         BRCA2       75\n",
    "    #         PTEN        69\n",
    "    #         KIT         61\n",
    "    #         BRAF        60\n",
    "    #         ERBB2       47\n",
    "    #         PDGFRA      46\n",
    "    #         ...}\n",
    "    # print(train_df['Variation'].value_counts())\n",
    "    # output:\n",
    "    # {\n",
    "    # Truncating_Mutations                     63\n",
    "    # Deletion                                 43\n",
    "    # Amplification                            43\n",
    "    # Fusions                                  22\n",
    "    # Overexpression                            3\n",
    "    # E17K                                      3\n",
    "    # Q61L                                      3\n",
    "    # S222D                                     2\n",
    "    # P130S                                     2\n",
    "    # ...\n",
    "    # }\n",
    "    value_count = train_df[feature].value_counts()\n",
    "    \n",
    "    # gv_dict : Gene Variation Dict, which contains the probability array for each gene/variation\n",
    "    gv_dict = dict()\n",
    "    \n",
    "    # denominator will contain the number of time that particular feature occured in whole data\n",
    "    for i, denominator in value_count.items():\n",
    "        # vec will contain (p(yi==1/Gi) probability of gene/variation belongs to perticular class\n",
    "        # vec is 9 diamensional vector\n",
    "        vec = []\n",
    "        for k in range(1,10):\n",
    "            # print(train_df.loc[(train_df['Class']==1) & (train_df['Gene']=='BRCA1')])\n",
    "            #         ID   Gene             Variation  Class  \n",
    "            # 2470  2470  BRCA1                S1715C      1   \n",
    "            # 2486  2486  BRCA1                S1841R      1   \n",
    "            # 2614  2614  BRCA1                   M1R      1   \n",
    "            # 2432  2432  BRCA1                L1657P      1   \n",
    "            # 2567  2567  BRCA1                T1685A      1   \n",
    "            # 2583  2583  BRCA1                E1660G      1   \n",
    "            # 2634  2634  BRCA1                W1718L      1   \n",
    "            # cls_cnt.shape[0] will return the number of rows\n",
    "\n",
    "            cls_cnt = train_df.loc[(y_train == k) & (train_df[feature]==i)]\n",
    "            \n",
    "            # cls_cnt.shape[0](numerator) will contain the number of time that particular feature occured in whole data\n",
    "            vec.append((cls_cnt.shape[0] + alpha*10)/ (denominator + 90*alpha))\n",
    "\n",
    "        # we are adding the gene/variation to the dict as key and vec as value\n",
    "        gv_dict[i]=vec\n",
    "    return gv_dict\n",
    "\n",
    "# Get Gene variation feature\n",
    "def get_gv_feature(alpha, feature, df):\n",
    "    # print(gv_dict)\n",
    "    #     {'BRCA1': [0.20075757575757575, 0.03787878787878788, 0.068181818181818177, 0.13636363636363635, 0.25, 0.19318181818181818, 0.03787878787878788, 0.03787878787878788, 0.03787878787878788], \n",
    "    #      'TP53': [0.32142857142857145, 0.061224489795918366, 0.061224489795918366, 0.27040816326530615, 0.061224489795918366, 0.066326530612244902, 0.051020408163265307, 0.051020408163265307, 0.056122448979591837], \n",
    "    #      'EGFR': [0.056818181818181816, 0.21590909090909091, 0.0625, 0.068181818181818177, 0.068181818181818177, 0.0625, 0.34659090909090912, 0.0625, 0.056818181818181816], \n",
    "    #      'BRCA2': [0.13333333333333333, 0.060606060606060608, 0.060606060606060608, 0.078787878787878782, 0.1393939393939394, 0.34545454545454546, 0.060606060606060608, 0.060606060606060608, 0.060606060606060608], \n",
    "    #      'PTEN': [0.069182389937106917, 0.062893081761006289, 0.069182389937106917, 0.46540880503144655, 0.075471698113207544, 0.062893081761006289, 0.069182389937106917, 0.062893081761006289, 0.062893081761006289], \n",
    "    #      'KIT': [0.066225165562913912, 0.25165562913907286, 0.072847682119205295, 0.072847682119205295, 0.066225165562913912, 0.066225165562913912, 0.27152317880794702, 0.066225165562913912, 0.066225165562913912], \n",
    "    #      'BRAF': [0.066666666666666666, 0.17999999999999999, 0.073333333333333334, 0.073333333333333334, 0.093333333333333338, 0.080000000000000002, 0.29999999999999999, 0.066666666666666666, 0.066666666666666666],\n",
    "    #      ...\n",
    "    #     }\n",
    "    gv_dict = get_gv_fea_dict(alpha, feature, df)\n",
    "    # value_count is similar in get_gv_fea_dict\n",
    "    value_count = train_df[feature].value_counts()\n",
    "    \n",
    "    # gv_fea: Gene_variation feature, it will contain the feature for each feature value in the data\n",
    "    gv_fea = []\n",
    "    # for every feature values in the given data frame we will check if it is there in the train data then we will add the feature to gv_fea\n",
    "    # if not we will add [1/9,1/9,1/9,1/9,1/9,1/9,1/9,1/9,1/9] to gv_fea\n",
    "    for index, row in df.iterrows():\n",
    "        if row[feature] in dict(value_count).keys():\n",
    "            gv_fea.append(gv_dict[row[feature]])\n",
    "        else:\n",
    "            gv_fea.append([1/9,1/9,1/9,1/9,1/9,1/9,1/9,1/9,1/9])\n",
    "#             gv_fea.append([-1,-1,-1,-1,-1,-1,-1,-1,-1])\n",
    "    return gv_fea"
   ]
  },
  {
   "cell_type": "markdown",
   "metadata": {
    "id": "ShBOxDTyOQv5"
   },
   "source": [
    "when we caculate the probability of a feature belongs to any particular class, we apply laplace smoothing\n",
    "<li>(numerator + 10\\*alpha) / (denominator + 90\\*alpha) </li>"
   ]
  },
  {
   "cell_type": "markdown",
   "metadata": {
    "id": "Burwv7NcOQv6"
   },
   "source": [
    "<h3>3.2.1 Univariate Analysis on Gene Feature</h3>"
   ]
  },
  {
   "cell_type": "markdown",
   "metadata": {
    "id": "xvrxgsHNOQv7"
   },
   "source": [
    "<p style=\"font-size:18px;\"> <b>Q1.</b> Gene, What type of feature it is ?</p>\n",
    "<p style=\"font-size:16px;\"><b>Ans.</b> Gene is a categorical variable </p>\n",
    "<p style=\"font-size:18px;\"> <b>Q2.</b> How many categories are there and How they are distributed?</p>"
   ]
  },
  {
   "cell_type": "code",
   "execution_count": 163,
   "metadata": {
    "id": "r4VErpbnOQv8",
    "outputId": "22f53282-bc40-474b-c939-7dcf706033c8"
   },
   "outputs": [
    {
     "name": "stdout",
     "output_type": "stream",
     "text": [
      "Number of Unique Genes : 229\n",
      "BRCA1     173\n",
      "TP53      106\n",
      "EGFR       84\n",
      "BRCA2      81\n",
      "PTEN       80\n",
      "BRAF       59\n",
      "KIT        57\n",
      "PDGFRA     42\n",
      "ALK        41\n",
      "ERBB2      41\n",
      "Name: Gene, dtype: int64\n"
     ]
    }
   ],
   "source": [
    "unique_genes = train_df['Gene'].value_counts()\n",
    "print('Number of Unique Genes :', unique_genes.shape[0])\n",
    "# the top 10 genes that occured most\n",
    "print(unique_genes.head(10))"
   ]
  },
  {
   "cell_type": "code",
   "execution_count": 164,
   "metadata": {
    "id": "T5cMcwH-OQwD",
    "outputId": "5f043133-6293-4b95-bd59-ddcfeb9a28e7",
    "scrolled": true
   },
   "outputs": [
    {
     "name": "stdout",
     "output_type": "stream",
     "text": [
      "Ans: There are 229 different categories of genes in the train data, and they are distibuted as follows\n"
     ]
    }
   ],
   "source": [
    "print(\"Ans: There are\", unique_genes.shape[0] ,\"different categories of genes in the train data, and they are distibuted as follows\",)"
   ]
  },
  {
   "cell_type": "code",
   "execution_count": 203,
   "metadata": {},
   "outputs": [
    {
     "data": {
      "image/png": "[encoded data removed]",
      "text/plain": [
       "<Figure size 432x288 with 1 Axes>"
      ]
     },
     "metadata": {
      "needs_background": "light"
     },
     "output_type": "display_data"
    }
   ],
   "source": [
    "sns.lineplot(x=range(train_df.Gene.nunique()),y=train_df.Gene.value_counts(normalize=True))\n",
    "plt.xlabel('Index of a Gene')\n",
    "plt.ylabel('Number of Occurances')\n",
    "plt.grid()\n",
    "plt.show()"
   ]
  },
  {
   "cell_type": "code",
   "execution_count": 212,
   "metadata": {
    "id": "GSYysPfLOQwP",
    "outputId": "bba66e8a-e270-42be-c94a-b8671af5cb8d"
   },
   "outputs": [
    {
     "data": {
      "image/png": "[encoded data removed]",
      "text/plain": [
       "<Figure size 432x288 with 1 Axes>"
      ]
     },
     "metadata": {
      "needs_background": "light"
     },
     "output_type": "display_data"
    }
   ],
   "source": [
    "c = np.cumsum(train_df.Gene.value_counts(normalize=True))\n",
    "plt.plot(c,label='Cumulative distribution of Genes')\n",
    "plt.grid()\n",
    "plt.xticks([])\n",
    "plt.legend()\n",
    "plt.show()"
   ]
  },
  {
   "cell_type": "markdown",
   "metadata": {
    "id": "KA0msTHPOQwT"
   },
   "source": [
    "<p style=\"font-size:18px;\"> <b>Q3.</b> How to featurize this Gene feature ?</p>\n",
    "\n",
    "<ol><li>One hot Encoding</li><li>Response coding</li></ol></p>\n",
    "<p> We will choose the appropriate featurization based on the ML model we use.  For this problem of multi-class classification with categorical features, one-hot encoding is better for Logistic regression while response coding is better for Random Forests. </p>"
   ]
  },
  {
   "cell_type": "code",
   "execution_count": 217,
   "metadata": {
    "id": "TcsbuDqcOQwU"
   },
   "outputs": [],
   "source": [
    "#response-coding of the Gene feature\n",
    "# alpha is used for laplace smoothing\n",
    "alpha = 1\n",
    "# train gene feature\n",
    "train_gene_feature_responseCoding = np.array(get_gv_feature(alpha, \"Gene\", train_df))\n",
    "# test gene feature\n",
    "test_gene_feature_responseCoding = np.array(get_gv_feature(alpha, \"Gene\", test_df))\n",
    "# cross validation gene feature\n",
    "cv_gene_feature_responseCoding = np.array(get_gv_feature(alpha, \"Gene\", cv_df))"
   ]
  },
  {
   "cell_type": "code",
   "execution_count": 218,
   "metadata": {
    "id": "CejFANCDOQwb",
    "outputId": "a41edb6a-e47d-44a7-ef3d-3bd4217bd3f9"
   },
   "outputs": [
    {
     "name": "stdout",
     "output_type": "stream",
     "text": [
      "train_gene_feature_responseCoding is converted feature using respone coding method. The shape of gene feature: (2124, 9)\n"
     ]
    }
   ],
   "source": [
    "print(\"train_gene_feature_responseCoding is converted feature using respone coding method. The shape of gene feature:\", train_gene_feature_responseCoding.shape)"
   ]
  },
  {
   "cell_type": "code",
   "execution_count": 253,
   "metadata": {
    "id": "7TiLWR3LOQwq"
   },
   "outputs": [],
   "source": [
    "gene_vectorizer = CountVectorizer()\n",
    "train_gene_feature_onehotCoding = gene_vectorizer.fit_transform(train_df['Gene'])\n",
    "test_gene_feature_onehotCoding = gene_vectorizer.transform(test_df['Gene'])\n",
    "cv_gene_feature_onehotCoding = gene_vectorizer.transform(cv_df['Gene'])"
   ]
  },
  {
   "cell_type": "code",
   "execution_count": 254,
   "metadata": {
    "id": "foYJ4tJnOQwt",
    "outputId": "7ef274c9-c886-4b7b-fe27-aedf4c5509cc"
   },
   "outputs": [
    {
     "data": {
      "text/plain": [
       "1832    PPP2R1A\n",
       "1147        MET\n",
       "113        MSH6\n",
       "406        TP53\n",
       "1544        ALK\n",
       "Name: Gene, dtype: object"
      ]
     },
     "execution_count": 254,
     "metadata": {},
     "output_type": "execute_result"
    }
   ],
   "source": [
    "train_df['Gene'].head()"
   ]
  },
  {
   "cell_type": "code",
   "execution_count": 255,
   "metadata": {
    "id": "RnMPvg4OOQw0",
    "outputId": "50876d1f-0e50-409c-9455-e320bde9082f"
   },
   "outputs": [
    {
     "name": "stdout",
     "output_type": "stream",
     "text": [
      "train_gene_feature_onehotCoding is converted feature using one-hot encoding method. The shape of gene feature: (2124, 228)\n"
     ]
    }
   ],
   "source": [
    "print(\"train_gene_feature_onehotCoding is converted feature using one-hot encoding method. The shape of gene feature:\", train_gene_feature_onehotCoding.shape)"
   ]
  },
  {
   "cell_type": "markdown",
   "metadata": {
    "id": "dKDkc6TeOQw-"
   },
   "source": [
    "<p style=\"font-size:18px;\"> <b>Q4.</b> How good is this gene feature  in predicting y_i?</p>"
   ]
  },
  {
   "cell_type": "markdown",
   "metadata": {
    "id": "vJ-891DNOQw_"
   },
   "source": [
    "There are many ways to estimate how good a feature is, in predicting y_i. One of the good methods is to build a proper ML model using just this feature. In this case, we will build a logistic regression model using only Gene feature (one hot encoded) to predict y_i."
   ]
  },
  {
   "cell_type": "code",
   "execution_count": 256,
   "metadata": {
    "id": "3lcCW-oEOQxA",
    "outputId": "358383a1-b788-4825-f2de-612c15db2c5d"
   },
   "outputs": [
    {
     "name": "stdout",
     "output_type": "stream",
     "text": [
      "For values of alpha =  1e-05 The log loss is: 1.4284832836080616\n",
      "For values of alpha =  0.0001 The log loss is: 1.4228874164392136\n",
      "For values of alpha =  0.001 The log loss is: 1.4219949514523025\n",
      "For values of alpha =  0.01 The log loss is: 1.4122092667058732\n",
      "For values of alpha =  0.1 The log loss is: 1.34519573029979\n",
      "For values of alpha =  1 The log loss is: 1.2498616454544944\n"
     ]
    },
    {
     "data": {
      "image/png": "[encoded data removed]",
      "text/plain": [
       "<Figure size 432x288 with 1 Axes>"
      ]
     },
     "metadata": {
      "needs_background": "light"
     },
     "output_type": "display_data"
    },
    {
     "name": "stdout",
     "output_type": "stream",
     "text": [
      "For values of best alpha =  1 The train log loss is: 1.0529700104081392\n",
      "For values of best alpha =  1 The cross validation log loss is: 1.2498616454544944\n",
      "For values of best alpha =  1 The test log loss is: 1.2117220237946111\n"
     ]
    }
   ],
   "source": [
    "alpha = [10 ** x for x in range(-5, 1)] \n",
    "\n",
    "cv_log_error_array=[]\n",
    "for i in alpha:\n",
    "    clf = LogisticRegression(C=i, penalty='l2', random_state=42)\n",
    "    clf.fit(train_gene_feature_onehotCoding, y_train)\n",
    "    sig_clf = CalibratedClassifierCV(clf, method=\"sigmoid\")\n",
    "    sig_clf.fit(train_gene_feature_onehotCoding, y_train)\n",
    "    predict_y = sig_clf.predict_proba(cv_gene_feature_onehotCoding)\n",
    "    cv_log_error_array.append(log_loss(y_cv, predict_y, labels=clf.classes_))\n",
    "    print('For values of alpha = ', i, \"The log loss is:\",log_loss(y_cv, predict_y, labels=clf.classes_))\n",
    "\n",
    "fig, ax = plt.subplots()\n",
    "ax.plot(alpha, cv_log_error_array,c='g')\n",
    "for i, txt in enumerate(np.round(cv_log_error_array,3)):\n",
    "    ax.annotate((alpha[i],np.round(txt,3)), (alpha[i],cv_log_error_array[i]))\n",
    "plt.grid()\n",
    "plt.title(\"Cross Validation Error for each alpha\")\n",
    "plt.xlabel(\"Alpha i's\")\n",
    "plt.ylabel(\"Error measure\")\n",
    "plt.show()\n",
    "\n",
    "\n",
    "best_alpha = np.argmin(cv_log_error_array)\n",
    "clf = LogisticRegression(C=alpha[best_alpha], penalty='l2', random_state=42)\n",
    "clf.fit(train_gene_feature_onehotCoding, y_train)\n",
    "sig_clf = CalibratedClassifierCV(clf, method=\"sigmoid\")\n",
    "sig_clf.fit(train_gene_feature_onehotCoding, y_train)\n",
    "\n",
    "predict_y = sig_clf.predict_proba(train_gene_feature_onehotCoding)\n",
    "print('For values of best alpha = ', alpha[best_alpha], \"The train log loss is:\",log_loss(y_train, predict_y, labels=clf.classes_, eps=1e-15))\n",
    "predict_y = sig_clf.predict_proba(cv_gene_feature_onehotCoding)\n",
    "print('For values of best alpha = ', alpha[best_alpha], \"The cross validation log loss is:\",log_loss(y_cv, predict_y, labels=clf.classes_, eps=1e-15))\n",
    "predict_y = sig_clf.predict_proba(test_gene_feature_onehotCoding)\n",
    "print('For values of best alpha = ', alpha[best_alpha], \"The test log loss is:\",log_loss(y_test, predict_y, labels=clf.classes_, eps=1e-15))\n"
   ]
  },
  {
   "cell_type": "markdown",
   "metadata": {
    "id": "AZjuFgxwOQxE"
   },
   "source": [
    "<p style=\"font-size:18px;\"> <b>Q5.</b> Is the Gene feature stable across all the data sets (Test, Train, Cross validation)?</p>\n",
    "<p style=\"font-size:16px;\"> <b>Ans.</b> Yes, it is. Otherwise, the CV and Test errors would be significantly more than train error. </p>"
   ]
  },
  {
   "cell_type": "code",
   "execution_count": 235,
   "metadata": {
    "id": "PjY8VwyuOQxK",
    "outputId": "2cba8438-2273-46f0-b43f-942f62e31536"
   },
   "outputs": [
    {
     "name": "stdout",
     "output_type": "stream",
     "text": [
      "Q6. How many data points in Test and CV datasets are covered by the  229  genes in train dataset?\n",
      "Ans\n",
      "1. In test data 638 out of 665 : 95.93984962406014\n",
      "2. In cross validation data 514 out of  532 : 96.61654135338345\n"
     ]
    }
   ],
   "source": [
    "print(\"Q6. How many data points in Test and CV datasets are covered by the \", unique_genes.shape[0], \" genes in train dataset?\")\n",
    "\n",
    "test_coverage=test_df[test_df['Gene'].isin(list(set(train_df['Gene'])))].shape[0]\n",
    "cv_coverage=cv_df[cv_df['Gene'].isin(list(set(train_df['Gene'])))].shape[0]\n",
    "\n",
    "print('Ans\\n1. In test data',test_coverage, 'out of',test_df.shape[0], \":\",(test_coverage/test_df.shape[0])*100)\n",
    "print('2. In cross validation data',cv_coverage, 'out of ',cv_df.shape[0],\":\" ,(cv_coverage/cv_df.shape[0])*100)"
   ]
  },
  {
   "cell_type": "markdown",
   "metadata": {
    "id": "GZ8dUhbbOQxN"
   },
   "source": [
    "<h3>3.2.2 Univariate Analysis on Variation Feature</h3>"
   ]
  },
  {
   "cell_type": "markdown",
   "metadata": {
    "id": "ZH8TKwYjOQxO"
   },
   "source": [
    "<p style=\"font-size:18px;\"> <b>Q7.</b> Variation, What type of feature is it ?</p>\n",
    "<p style=\"font-size:16px;\"><b>Ans.</b> Variation is a categorical variable </p>\n",
    "<p style=\"font-size:18px;\"> <b>Q8.</b> How many categories are there?</p>"
   ]
  },
  {
   "cell_type": "code",
   "execution_count": 241,
   "metadata": {
    "id": "ipBDKwsoOQxP",
    "outputId": "eadee41d-e613-4601-d605-5d48d1157284"
   },
   "outputs": [
    {
     "name": "stdout",
     "output_type": "stream",
     "text": [
      "Number of Unique Variations : 1924\n",
      "Truncating Mutations    59\n",
      "Deletion                50\n",
      "Amplification           45\n",
      "Fusions                 21\n",
      "Overexpression           5\n",
      "G12V                     4\n",
      "E17K                     3\n",
      "G12C                     2\n",
      "TMPRSS2-ETV1 Fusion      2\n",
      "Q209L                    2\n",
      "Name: Variation, dtype: int64\n"
     ]
    }
   ],
   "source": [
    "unique_variations = train_df['Variation'].value_counts()\n",
    "print('Number of Unique Variations :', unique_variations.shape[0])\n",
    "# the top 10 variations that occured most\n",
    "print(unique_variations.head(10))"
   ]
  },
  {
   "cell_type": "code",
   "execution_count": 242,
   "metadata": {
    "id": "K9wWS-NYOQxV",
    "outputId": "c391bf04-d611-4d0e-b720-3c3d270defa3",
    "scrolled": true
   },
   "outputs": [
    {
     "name": "stdout",
     "output_type": "stream",
     "text": [
      "Ans: There are 1924 different categories of variations in the train data, and they are distibuted as follows\n"
     ]
    }
   ],
   "source": [
    "print(\"Ans: There are\", unique_variations.shape[0] ,\"different categories of variations in the train data, and they are distibuted as follows\",)"
   ]
  },
  {
   "cell_type": "code",
   "execution_count": 243,
   "metadata": {
    "id": "B7NmwrkpOQxk",
    "outputId": "eb46584d-d5b4-4e82-aac4-37fd2f22515d"
   },
   "outputs": [
    {
     "data": {
      "image/png": "[encoded data removed]",
      "text/plain": [
       "<Figure size 432x288 with 1 Axes>"
      ]
     },
     "metadata": {
      "needs_background": "light"
     },
     "output_type": "display_data"
    }
   ],
   "source": [
    "sns.lineplot(x=range(train_df.Variation.nunique()),y=train_df.Variation.value_counts(normalize=True))\n",
    "plt.xlabel('Index of a Variation')\n",
    "plt.ylabel('Number of Occurances')\n",
    "plt.grid()\n",
    "plt.show()"
   ]
  },
  {
   "cell_type": "code",
   "execution_count": 246,
   "metadata": {
    "id": "9sWC9-MXOQxo",
    "outputId": "3f6a6acc-d848-4cf0-c8ab-a39b91ab48a7"
   },
   "outputs": [
    {
     "data": {
      "image/png": "[encoded data removed]",
      "text/plain": [
       "<Figure size 432x288 with 1 Axes>"
      ]
     },
     "metadata": {
      "needs_background": "light"
     },
     "output_type": "display_data"
    }
   ],
   "source": [
    "c = np.cumsum(train_df.Variation.value_counts(normalize=True))\n",
    "plt.plot(c,label='Cumulative distribution of Variation')\n",
    "plt.grid()\n",
    "plt.xticks([])\n",
    "plt.legend()\n",
    "plt.show()"
   ]
  },
  {
   "cell_type": "markdown",
   "metadata": {
    "id": "e_jKtHYZOQxt"
   },
   "source": [
    "<p style=\"font-size:18px;\"> <b>Q9.</b> How to featurize this Variation feature ?</p>\n",
    "\n",
    "<p style=\"font-size:16px;\"><b>Ans.</b>There are two ways we can featurize this variable\n",
    "<ol><li>One hot Encoding</li><li>Response coding</li></ol></p>\n",
    "<p> We will be using both these methods to featurize the Variation Feature </p>"
   ]
  },
  {
   "cell_type": "code",
   "execution_count": 247,
   "metadata": {
    "id": "3FG82Rp2OQxt"
   },
   "outputs": [],
   "source": [
    "# alpha is used for laplace smoothing\n",
    "alpha = 1\n",
    "# train gene feature\n",
    "train_variation_feature_responseCoding = np.array(get_gv_feature(alpha, \"Variation\", train_df))\n",
    "# test gene feature\n",
    "test_variation_feature_responseCoding = np.array(get_gv_feature(alpha, \"Variation\", test_df))\n",
    "# cross validation gene feature\n",
    "cv_variation_feature_responseCoding = np.array(get_gv_feature(alpha, \"Variation\", cv_df))"
   ]
  },
  {
   "cell_type": "code",
   "execution_count": 248,
   "metadata": {
    "id": "FETgZxHEOQxw",
    "outputId": "af57ed48-b196-4e43-979d-10967e810459"
   },
   "outputs": [
    {
     "name": "stdout",
     "output_type": "stream",
     "text": [
      "train_variation_feature_responseCoding is a converted feature using the response coding method. The shape of Variation feature: (2124, 9)\n"
     ]
    }
   ],
   "source": [
    "print(\"train_variation_feature_responseCoding is a converted feature using the response coding method. The shape of Variation feature:\", train_variation_feature_responseCoding.shape)"
   ]
  },
  {
   "cell_type": "code",
   "execution_count": 257,
   "metadata": {
    "id": "ruAYi3HwOQxy"
   },
   "outputs": [],
   "source": [
    "variation_vectorizer = CountVectorizer()\n",
    "train_variation_feature_onehotCoding = variation_vectorizer.fit_transform(train_df['Variation'])\n",
    "test_variation_feature_onehotCoding = variation_vectorizer.transform(test_df['Variation'])\n",
    "cv_variation_feature_onehotCoding = variation_vectorizer.transform(cv_df['Variation'])"
   ]
  },
  {
   "cell_type": "code",
   "execution_count": 258,
   "metadata": {
    "id": "pUdraWMYOQx3",
    "outputId": "bdd245b0-9379-40fd-bd85-14c69b311650"
   },
   "outputs": [
    {
     "name": "stdout",
     "output_type": "stream",
     "text": [
      "train_variation_feature_onehotEncoded is converted feature using the onne-hot encoding method. The shape of Variation feature: (2124, 1965)\n"
     ]
    }
   ],
   "source": [
    "print(\"train_variation_feature_onehotEncoded is converted feature using the onne-hot encoding method. The shape of Variation feature:\", train_variation_feature_onehotCoding.shape)"
   ]
  },
  {
   "cell_type": "markdown",
   "metadata": {
    "id": "hhg1JfPtOQx7"
   },
   "source": [
    "<p style=\"font-size:18px;\"> <b>Q10.</b> How good is this Variation feature  in predicting y_i?</p>"
   ]
  },
  {
   "cell_type": "markdown",
   "metadata": {
    "id": "1zjZ4FBNOQx9"
   },
   "source": [
    "Let's build a model just like the earlier!"
   ]
  },
  {
   "cell_type": "code",
   "execution_count": 261,
   "metadata": {
    "id": "RDa2yRKfOQx9",
    "outputId": "d93b4e13-e709-4ca0-a703-3c3df48884f7",
    "scrolled": false
   },
   "outputs": [
    {
     "name": "stdout",
     "output_type": "stream",
     "text": [
      "For values of alpha =  1e-05 The log loss is: 1.720620436960606\n",
      "For values of alpha =  0.0001 The log loss is: 1.7222666259637582\n",
      "For values of alpha =  0.001 The log loss is: 1.7221116641587788\n",
      "For values of alpha =  0.01 The log loss is: 1.7209948352364128\n",
      "For values of alpha =  0.1 The log loss is: 1.7173285159723086\n",
      "For values of alpha =  1 The log loss is: 1.7190998488138947\n"
     ]
    },
    {
     "data": {
      "image/png": "[encoded data removed]",
      "text/plain": [
       "<Figure size 432x288 with 1 Axes>"
      ]
     },
     "metadata": {
      "needs_background": "light"
     },
     "output_type": "display_data"
    },
    {
     "name": "stdout",
     "output_type": "stream",
     "text": [
      "For values of best alpha =  0.1 The train log loss is: 1.4283781668977096\n",
      "For values of best alpha =  0.1 The cross validation log loss is: 1.7173285159723086\n",
      "For values of best alpha =  0.1 The test log loss is: 1.6912268269824664\n"
     ]
    }
   ],
   "source": [
    "alpha = [10 ** x for x in range(-5, 1)]\n",
    "\n",
    "cv_log_error_array=[]\n",
    "for i in alpha:\n",
    "    clf = LogisticRegression(C=i, penalty='l2', random_state=42)\n",
    "    clf.fit(train_variation_feature_onehotCoding, y_train)\n",
    "    \n",
    "    sig_clf = CalibratedClassifierCV(clf, method=\"sigmoid\")\n",
    "    sig_clf.fit(train_variation_feature_onehotCoding, y_train)\n",
    "    predict_y = sig_clf.predict_proba(cv_variation_feature_onehotCoding)\n",
    "    \n",
    "    cv_log_error_array.append(log_loss(y_cv, predict_y, labels=clf.classes_))\n",
    "    print('For values of alpha = ', i, \"The log loss is:\",log_loss(y_cv, predict_y, labels=clf.classes_))\n",
    "\n",
    "fig, ax = plt.subplots()\n",
    "ax.plot(alpha, cv_log_error_array,c='g')\n",
    "for i, txt in enumerate(np.round(cv_log_error_array,3)):\n",
    "    ax.annotate((alpha[i],np.round(txt,3)), (alpha[i],cv_log_error_array[i]))\n",
    "plt.grid()\n",
    "plt.title(\"Cross Validation Error for each alpha\")\n",
    "plt.xlabel(\"Alpha i's\")\n",
    "plt.ylabel(\"Error measure\")\n",
    "plt.show()\n",
    "\n",
    "\n",
    "best_alpha = np.argmin(cv_log_error_array)\n",
    "clf = LogisticRegression(C=alpha[best_alpha], penalty='l2', random_state=42)\n",
    "clf.fit(train_variation_feature_onehotCoding, y_train)\n",
    "sig_clf = CalibratedClassifierCV(clf, method=\"sigmoid\")\n",
    "sig_clf.fit(train_variation_feature_onehotCoding, y_train)\n",
    "\n",
    "predict_y = sig_clf.predict_proba(train_variation_feature_onehotCoding)\n",
    "print('For values of best alpha = ', alpha[best_alpha], \"The train log loss is:\",log_loss(y_train, predict_y, labels=clf.classes_))\n",
    "predict_y = sig_clf.predict_proba(cv_variation_feature_onehotCoding)\n",
    "print('For values of best alpha = ', alpha[best_alpha], \"The cross validation log loss is:\",log_loss(y_cv, predict_y, labels=clf.classes_))\n",
    "predict_y = sig_clf.predict_proba(test_variation_feature_onehotCoding)\n",
    "print('For values of best alpha = ', alpha[best_alpha], \"The test log loss is:\",log_loss(y_test, predict_y, labels=clf.classes_))\n"
   ]
  },
  {
   "cell_type": "markdown",
   "metadata": {
    "id": "gO-gq3cFOQyB"
   },
   "source": [
    "<p style=\"font-size:18px;\"> <b>Q11.</b> Is the Variation feature stable across all the data sets (Test, Train, Cross validation)?</p>\n",
    "<p style=\"font-size:16px;\"> <b>Ans.</b> The below analysis would provide a clear picture. </p>"
   ]
  },
  {
   "cell_type": "code",
   "execution_count": 262,
   "metadata": {
    "id": "pBZ5v2yBOQyB",
    "outputId": "1cd66f72-ed15-463d-fda0-6bad80b3cee4",
    "scrolled": true
   },
   "outputs": [
    {
     "name": "stdout",
     "output_type": "stream",
     "text": [
      "Q12. How many data points are covered by total  1924  genes in test and cross validation data sets?\n",
      "Ans\n",
      "1. In test data 74 out of 665 : 11.12781954887218\n",
      "2. In cross validation data 44 out of  532 : 8.270676691729323\n"
     ]
    }
   ],
   "source": [
    "print(\"Q12. How many data points are covered by total \", unique_variations.shape[0], \" genes in test and cross validation data sets?\")\n",
    "test_coverage=test_df[test_df['Variation'].isin(list(set(train_df['Variation'])))].shape[0]\n",
    "cv_coverage=cv_df[cv_df['Variation'].isin(list(set(train_df['Variation'])))].shape[0]\n",
    "print('Ans\\n1. In test data',test_coverage, 'out of',test_df.shape[0], \":\",(test_coverage/test_df.shape[0])*100)\n",
    "print('2. In cross validation data',cv_coverage, 'out of ',cv_df.shape[0],\":\" ,(cv_coverage/cv_df.shape[0])*100)"
   ]
  },
  {
   "cell_type": "markdown",
   "metadata": {
    "id": "J87b3_pEOQyE"
   },
   "source": [
    "<h3>3.2.3 Univariate Analysis on Text Feature</h3>"
   ]
  },
  {
   "cell_type": "markdown",
   "metadata": {
    "id": "Go1Lmf9tOQyF"
   },
   "source": [
    "1. How many unique words are present in train data?\n",
    "2. How are word frequencies distributed?\n",
    "3. How to featurize text field?\n",
    "4. Is the text feature useful in predicitng y_i?\n",
    "5. Is the text feature stable across train, test and CV datasets?"
   ]
  },
  {
   "cell_type": "code",
   "execution_count": 263,
   "metadata": {
    "id": "FnAaW3teOQyL",
    "outputId": "19a8f77b-6a9d-4454-8475-c59b340827d3"
   },
   "outputs": [
    {
     "name": "stdout",
     "output_type": "stream",
     "text": [
      "Total number of unique words in train data : 57923\n"
     ]
    }
   ],
   "source": [
    "# building a CountVectorizer with all the words that occured minimum 3 times in train data\n",
    "text_vectorizer = CountVectorizer(min_df=3)\n",
    "train_text_feature_onehotCoding = text_vectorizer.fit_transform(train_df['TEXT'])\n",
    "# getting all the feature names (words)\n",
    "train_text_features= text_vectorizer.get_feature_names()\n",
    "\n",
    "# train_text_feature_onehotCoding.sum(axis=0).A1 will sum every row and returns (1*number of features) vector\n",
    "train_text_fea_counts = train_text_feature_onehotCoding.sum(axis=0).A1\n",
    "\n",
    "# zip(list(text_features),text_fea_counts) will zip a word with its number of times it occured\n",
    "text_fea_dict = dict(zip(list(train_text_features),train_text_fea_counts))\n",
    "\n",
    "\n",
    "print(\"Total number of unique words in train data :\", len(train_text_features))"
   ]
  },
  {
   "cell_type": "code",
   "execution_count": 270,
   "metadata": {
    "id": "3UEk7cxGOQyX"
   },
   "outputs": [],
   "source": [
    "# normalize every feature\n",
    "train_text_feature_onehotCoding = normalize(train_text_feature_onehotCoding, axis=0)\n",
    "\n",
    "# we use the same vectorizer that was trained on train data\n",
    "test_text_feature_onehotCoding = text_vectorizer.transform(test_df['TEXT'])\n",
    "# don't forget to normalize every feature\n",
    "test_text_feature_onehotCoding = normalize(test_text_feature_onehotCoding, axis=0)\n",
    "\n",
    "# we use the same vectorizer that was trained on train data\n",
    "cv_text_feature_onehotCoding = text_vectorizer.transform(cv_df['TEXT'])\n",
    "# normalize every feature\n",
    "cv_text_feature_onehotCoding = normalize(cv_text_feature_onehotCoding, axis=0)"
   ]
  },
  {
   "cell_type": "code",
   "execution_count": 271,
   "metadata": {
    "id": "Ox21AjDkOQyZ"
   },
   "outputs": [],
   "source": [
    "sorted_text_fea_dict = dict(sorted(text_fea_dict.items(), key=lambda x: x[1] , reverse=True))\n",
    "sorted_text_occur = np.array(list(sorted_text_fea_dict.values()))"
   ]
  },
  {
   "cell_type": "code",
   "execution_count": 273,
   "metadata": {
    "id": "1sys81mqOQyh",
    "outputId": "9e15531f-4120-4079-9802-1923bea0c4d4"
   },
   "outputs": [
    {
     "name": "stdout",
     "output_type": "stream",
     "text": [
      "For values of alpha =  1e-05 The log loss is: 1.2398259722617089\n",
      "For values of alpha =  0.0001 The log loss is: 1.2315075778553348\n",
      "For values of alpha =  0.001 The log loss is: 1.2213362306497166\n",
      "For values of alpha =  0.01 The log loss is: 1.1708763340169068\n",
      "For values of alpha =  0.1 The log loss is: 1.1202172425919543\n",
      "For values of alpha =  1 The log loss is: 1.1279780688693068\n"
     ]
    },
    {
     "data": {
      "image/png": "[encoded data removed]",
      "text/plain": [
       "<Figure size 432x288 with 1 Axes>"
      ]
     },
     "metadata": {
      "needs_background": "light"
     },
     "output_type": "display_data"
    },
    {
     "name": "stdout",
     "output_type": "stream",
     "text": [
      "For values of best alpha =  0.1 The train log loss is: 0.7707385868227197\n",
      "For values of best alpha =  0.1 The cross validation log loss is: 1.1202172425919543\n",
      "For values of best alpha =  0.1 The test log loss is: 1.1027766740446343\n"
     ]
    }
   ],
   "source": [
    "# Train a Logistic regression+Calibration model using text features which are on-hot encoded\n",
    "alpha = [10 ** x for x in range(-5, 1)]\n",
    "\n",
    "cv_log_error_array=[]\n",
    "for i in alpha:\n",
    "    clf = LogisticRegression(C=i, penalty='l2', random_state=42)\n",
    "    clf.fit(train_text_feature_onehotCoding, y_train)\n",
    "    \n",
    "    sig_clf = CalibratedClassifierCV(clf, method=\"sigmoid\")\n",
    "    sig_clf.fit(train_text_feature_onehotCoding, y_train)\n",
    "    predict_y = sig_clf.predict_proba(cv_text_feature_onehotCoding)\n",
    "    cv_log_error_array.append(log_loss(y_cv, predict_y, labels=clf.classes_))\n",
    "    print('For values of alpha = ', i, \"The log loss is:\",log_loss(y_cv, predict_y, labels=clf.classes_))\n",
    "\n",
    "fig, ax = plt.subplots()\n",
    "ax.plot(alpha, cv_log_error_array,c='g')\n",
    "for i, txt in enumerate(np.round(cv_log_error_array,3)):\n",
    "    ax.annotate((alpha[i],np.round(txt,3)), (alpha[i],cv_log_error_array[i]))\n",
    "plt.grid()\n",
    "plt.title(\"Cross Validation Error for each alpha\")\n",
    "plt.xlabel(\"Alpha i's\")\n",
    "plt.ylabel(\"Error measure\")\n",
    "plt.show()\n",
    "\n",
    "\n",
    "best_alpha = np.argmin(cv_log_error_array)\n",
    "clf = LogisticRegression(C=alpha[best_alpha], penalty='l2', random_state=42)\n",
    "clf.fit(train_text_feature_onehotCoding, y_train)\n",
    "sig_clf = CalibratedClassifierCV(clf, method=\"sigmoid\")\n",
    "sig_clf.fit(train_text_feature_onehotCoding, y_train)\n",
    "\n",
    "predict_y = sig_clf.predict_proba(train_text_feature_onehotCoding)\n",
    "print('For values of best alpha = ', alpha[best_alpha], \"The train log loss is:\",log_loss(y_train, predict_y, labels=clf.classes_))\n",
    "predict_y = sig_clf.predict_proba(cv_text_feature_onehotCoding)\n",
    "print('For values of best alpha = ', alpha[best_alpha], \"The cross validation log loss is:\",log_loss(y_cv, predict_y, labels=clf.classes_))\n",
    "predict_y = sig_clf.predict_proba(test_text_feature_onehotCoding)\n",
    "print('For values of best alpha = ', alpha[best_alpha], \"The test log loss is:\",log_loss(y_test, predict_y, labels=clf.classes_))\n"
   ]
  },
  {
   "cell_type": "markdown",
   "metadata": {
    "id": "s6AqmMa0OQym"
   },
   "source": [
    "<p style=\"font-size:18px;\"> <b>Q.</b> Is the Text feature stable across all the data sets (Test, Train, Cross validation)?</p>\n",
    "<p style=\"font-size:16px;\"> <b>Ans.</b> Yes </p>"
   ]
  },
  {
   "cell_type": "code",
   "execution_count": 275,
   "metadata": {
    "id": "p_cUhp-ZOQyn"
   },
   "outputs": [],
   "source": [
    "def get_intersec_text(df):\n",
    "    df_text_vec = CountVectorizer(min_df=3)\n",
    "    df_text_fea = df_text_vec.fit_transform(df['TEXT'])\n",
    "    df_text_features = df_text_vec.get_feature_names()\n",
    "\n",
    "    df_text_fea_counts = df_text_fea.sum(axis=0).A1\n",
    "    df_text_fea_dict = dict(zip(list(df_text_features),df_text_fea_counts))\n",
    "    len1 = len(set(df_text_features))\n",
    "    len2 = len(set(train_text_features) & set(df_text_features))\n",
    "    return len1,len2"
   ]
  },
  {
   "cell_type": "code",
   "execution_count": 276,
   "metadata": {
    "id": "yjNmkGN9OQyo",
    "outputId": "a201cc3e-76ca-4fde-e2dd-932733853c2b"
   },
   "outputs": [
    {
     "name": "stdout",
     "output_type": "stream",
     "text": [
      "97.613 % of word of test data appeared in train data\n",
      "98.079 % of word of Cross Validation appeared in train data\n"
     ]
    }
   ],
   "source": [
    "len1,len2 = get_intersec_text(test_df)\n",
    "print(np.round((len2/len1)*100, 3), \"% of word of test data appeared in train data\")\n",
    "len1,len2 = get_intersec_text(cv_df)\n",
    "print(np.round((len2/len1)*100, 3), \"% of word of Cross Validation appeared in train data\")"
   ]
  },
  {
   "cell_type": "markdown",
   "metadata": {
    "id": "XXWA-CNqOQys"
   },
   "source": [
    "<h1>4. Machine Learning Models</h1>"
   ]
  },
  {
   "cell_type": "code",
   "execution_count": 277,
   "metadata": {
    "id": "EKJzoIyQOQys"
   },
   "outputs": [],
   "source": [
    "#Data preparation for ML models.\n",
    "\n",
    "#Misc. functionns for ML models\n",
    "\n",
    "\n",
    "def predict_and_plot_confusion_matrix(train_x, train_y,test_x, test_y, clf):\n",
    "    clf.fit(train_x, train_y)\n",
    "    sig_clf = CalibratedClassifierCV(clf, method=\"sigmoid\")\n",
    "    sig_clf.fit(train_x, train_y)\n",
    "    pred_y = sig_clf.predict(test_x)\n",
    "\n",
    "    # for calculating log_loss we willl provide the array of probabilities belongs to each class\n",
    "    print(\"Log loss :\",log_loss(test_y, sig_clf.predict_proba(test_x)))\n",
    "    # calculating the number of data points that are misclassified\n",
    "    print(\"Number of mis-classified points :\", np.count_nonzero((pred_y- test_y))/test_y.shape[0])\n",
    "    plot_confusion_matrix(test_y, pred_y)"
   ]
  },
  {
   "cell_type": "code",
   "execution_count": 278,
   "metadata": {
    "id": "XmI-EZ-XOQyv"
   },
   "outputs": [],
   "source": [
    "def report_log_loss(train_x, train_y, test_x, test_y,  clf):\n",
    "    clf.fit(train_x, train_y)\n",
    "    sig_clf = CalibratedClassifierCV(clf, method=\"sigmoid\")\n",
    "    sig_clf.fit(train_x, train_y)\n",
    "    sig_clf_probs = sig_clf.predict_proba(test_x)\n",
    "    return log_loss(test_y, sig_clf_probs)"
   ]
  },
  {
   "cell_type": "code",
   "execution_count": 279,
   "metadata": {
    "id": "m68G02CbOQyw"
   },
   "outputs": [],
   "source": [
    "# this function will be used just for naive bayes\n",
    "# for the given indices, we will print the name of the features\n",
    "# and we will check whether the feature present in the test point text or not\n",
    "def get_impfeature_names(indices, text, gene, var, no_features):\n",
    "    gene_count_vec = CountVectorizer()\n",
    "    var_count_vec = CountVectorizer()\n",
    "    text_count_vec = CountVectorizer(min_df=3)\n",
    "    \n",
    "    gene_vec = gene_count_vec.fit(train_df['Gene'])\n",
    "    var_vec  = var_count_vec.fit(train_df['Variation'])\n",
    "    text_vec = text_count_vec.fit(train_df['TEXT'])\n",
    "    \n",
    "    fea1_len = len(gene_vec.get_feature_names())\n",
    "    fea2_len = len(var_count_vec.get_feature_names())\n",
    "    \n",
    "    word_present = 0\n",
    "    for i,v in enumerate(indices):\n",
    "        if (v < fea1_len):\n",
    "            word = gene_vec.get_feature_names()[v]\n",
    "            yes_no = True if word == gene else False\n",
    "            if yes_no:\n",
    "                word_present += 1\n",
    "                print(i, \"Gene feature [{}] present in test data point [{}]\".format(word,yes_no))\n",
    "        elif (v < fea1_len+fea2_len):\n",
    "            word = var_vec.get_feature_names()[v-(fea1_len)]\n",
    "            yes_no = True if word == var else False\n",
    "            if yes_no:\n",
    "                word_present += 1\n",
    "                print(i, \"variation feature [{}] present in test data point [{}]\".format(word,yes_no))\n",
    "        else:\n",
    "            word = text_vec.get_feature_names()[v-(fea1_len+fea2_len)]\n",
    "            yes_no = True if word in text.split() else False\n",
    "            if yes_no:\n",
    "                word_present += 1\n",
    "                print(i, \"Text feature [{}] present in test data point [{}]\".format(word,yes_no))\n",
    "\n",
    "    print(\"Out of the top \",no_features,\" features \", word_present, \"are present in query point\")"
   ]
  },
  {
   "cell_type": "markdown",
   "metadata": {
    "id": "Gd7PORPUOQyy"
   },
   "source": [
    "<p style=\"font-size:24px;text-align:Center\"> <b>Stacking the three types of features </b><p>"
   ]
  },
  {
   "cell_type": "code",
   "execution_count": 285,
   "metadata": {
    "id": "W1VYFJb_OQyy"
   },
   "outputs": [],
   "source": [
    "# merging gene, variance and text features\n",
    "\n",
    "from scipy.sparse import hstack\n",
    "train_gene_var_onehotCoding = hstack((train_gene_feature_onehotCoding,train_variation_feature_onehotCoding))\n",
    "test_gene_var_onehotCoding = hstack((test_gene_feature_onehotCoding,test_variation_feature_onehotCoding))\n",
    "cv_gene_var_onehotCoding = hstack((cv_gene_feature_onehotCoding,cv_variation_feature_onehotCoding))\n",
    "\n",
    "train_x_onehotCoding = hstack((train_gene_var_onehotCoding, train_text_feature_onehotCoding)).tocsr()\n",
    "train_y = np.array(list(y_train))\n",
    "\n",
    "test_x_onehotCoding = hstack((test_gene_var_onehotCoding, test_text_feature_onehotCoding)).tocsr()\n",
    "test_y = np.array(list(y_test))\n",
    "\n",
    "cv_x_onehotCoding = hstack((cv_gene_var_onehotCoding, cv_text_feature_onehotCoding)).tocsr()\n",
    "cv_y = np.array(list(y_cv))\n",
    "\n",
    "\n",
    "train_x_responseCoding = np.hstack((train_gene_feature_responseCoding,train_variation_feature_responseCoding))\n",
    "test_x_responseCoding = np.hstack((test_gene_feature_responseCoding,test_variation_feature_responseCoding))\n",
    "cv_x_responseCoding = np.hstack((cv_gene_feature_responseCoding,cv_variation_feature_responseCoding))"
   ]
  },
  {
   "cell_type": "code",
   "execution_count": 286,
   "metadata": {
    "id": "dmSks_ifOQyz",
    "outputId": "ed490809-43be-4080-b4c5-ec1c4ba101ab"
   },
   "outputs": [
    {
     "name": "stdout",
     "output_type": "stream",
     "text": [
      "One hot encoding features :\n",
      "(number of data points * number of features) in train data =  (2124, 60116)\n",
      "(number of data points * number of features) in test data =  (665, 60116)\n",
      "(number of data points * number of features) in cross validation data = (532, 60116)\n"
     ]
    }
   ],
   "source": [
    "print(\"One hot encoding features :\")\n",
    "print(\"(number of data points * number of features) in train data = \", train_x_onehotCoding.shape)\n",
    "print(\"(number of data points * number of features) in test data = \", test_x_onehotCoding.shape)\n",
    "print(\"(number of data points * number of features) in cross validation data =\", cv_x_onehotCoding.shape)"
   ]
  },
  {
   "cell_type": "code",
   "execution_count": 287,
   "metadata": {
    "id": "gqhwbE-ZOQy1",
    "outputId": "f2f122ed-2b8a-4784-fbc9-5a34562ed234"
   },
   "outputs": [
    {
     "name": "stdout",
     "output_type": "stream",
     "text": [
      " Response encoding features :\n",
      "(number of data points * number of features) in train data =  (2124, 18)\n",
      "(number of data points * number of features) in test data =  (665, 18)\n",
      "(number of data points * number of features) in cross validation data = (532, 18)\n"
     ]
    }
   ],
   "source": [
    "print(\" Response encoding features :\")\n",
    "print(\"(number of data points * number of features) in train data = \", train_x_responseCoding.shape)\n",
    "print(\"(number of data points * number of features) in test data = \", test_x_responseCoding.shape)\n",
    "print(\"(number of data points * number of features) in cross validation data =\", cv_x_responseCoding.shape)"
   ]
  },
  {
   "cell_type": "markdown",
   "metadata": {
    "id": "AwsQlJOpOQy5"
   },
   "source": [
    "<h2>4.1. Base Line Model</h2>"
   ]
  },
  {
   "cell_type": "markdown",
   "metadata": {
    "id": "bDbxDY8sOQy6"
   },
   "source": [
    "<h3>4.1.1. Naive Bayes</h3>"
   ]
  },
  {
   "cell_type": "markdown",
   "metadata": {
    "id": "75gYdztHOQy7"
   },
   "source": [
    "<h4>4.1.1.1. Hyper parameter tuning</h4>"
   ]
  },
  {
   "cell_type": "code",
   "execution_count": 288,
   "metadata": {
    "id": "arRoTgx8OQy7",
    "outputId": "32ce6362-b483-4fb6-ca23-d922fd134dca"
   },
   "outputs": [
    {
     "name": "stdout",
     "output_type": "stream",
     "text": [
      "for alpha = 1e-05\n",
      "Log Loss : 1.2992848655775044\n",
      "for alpha = 0.0001\n",
      "Log Loss : 1.2935665972336368\n",
      "for alpha = 0.001\n",
      "Log Loss : 1.3022748562398663\n",
      "for alpha = 0.1\n",
      "Log Loss : 1.2872029417529405\n",
      "for alpha = 1\n",
      "Log Loss : 1.3094577961203908\n",
      "for alpha = 10\n",
      "Log Loss : 1.4029040409756506\n",
      "for alpha = 100\n",
      "Log Loss : 1.4128880343638368\n",
      "for alpha = 1000\n",
      "Log Loss : 1.3308044091022928\n"
     ]
    },
    {
     "data": {
      "image/png": "[encoded data removed]",
      "text/plain": [
       "<Figure size 432x288 with 1 Axes>"
      ]
     },
     "metadata": {
      "needs_background": "light"
     },
     "output_type": "display_data"
    },
    {
     "name": "stdout",
     "output_type": "stream",
     "text": [
      "For values of best alpha =  0.1 The train log loss is: 0.8677523442787988\n",
      "For values of best alpha =  0.1 The cross validation log loss is: 1.2872029417529405\n",
      "For values of best alpha =  0.1 The test log loss is: 1.2413362242236348\n"
     ]
    }
   ],
   "source": [
    "alpha = [0.00001, 0.0001, 0.001, 0.1, 1, 10, 100,1000]\n",
    "cv_log_error_array = []\n",
    "for i in alpha:\n",
    "    print(\"for alpha =\", i)\n",
    "    clf = MultinomialNB(alpha=i)\n",
    "    clf.fit(train_x_onehotCoding, train_y)\n",
    "    sig_clf = CalibratedClassifierCV(clf, method=\"sigmoid\")\n",
    "    sig_clf.fit(train_x_onehotCoding, train_y)\n",
    "    sig_clf_probs = sig_clf.predict_proba(cv_x_onehotCoding)\n",
    "    cv_log_error_array.append(log_loss(cv_y, sig_clf_probs, labels=clf.classes_))\n",
    "    # to avoid rounding error while multiplying probabilites we use log-probability estimates\n",
    "    print(\"Log Loss :\",log_loss(cv_y, sig_clf_probs)) \n",
    "\n",
    "fig, ax = plt.subplots()\n",
    "ax.plot(np.log10(alpha), cv_log_error_array,c='g')\n",
    "for i, txt in enumerate(np.round(cv_log_error_array,3)):\n",
    "    ax.annotate((alpha[i],str(txt)), (np.log10(alpha[i]),cv_log_error_array[i]))\n",
    "plt.grid()\n",
    "plt.xticks(np.log10(alpha))\n",
    "plt.title(\"Cross Validation Error for each alpha\")\n",
    "plt.xlabel(\"Alpha i's\")\n",
    "plt.ylabel(\"Error measure\")\n",
    "plt.show()\n",
    "\n",
    "\n",
    "best_alpha = np.argmin(cv_log_error_array)\n",
    "clf = MultinomialNB(alpha=alpha[best_alpha])\n",
    "clf.fit(train_x_onehotCoding, train_y)\n",
    "sig_clf = CalibratedClassifierCV(clf, method=\"sigmoid\")\n",
    "sig_clf.fit(train_x_onehotCoding, train_y)\n",
    "\n",
    "\n",
    "predict_y = sig_clf.predict_proba(train_x_onehotCoding)\n",
    "print('For values of best alpha = ', alpha[best_alpha], \"The train log loss is:\",log_loss(y_train, predict_y, labels=clf.classes_, eps=1e-15))\n",
    "predict_y = sig_clf.predict_proba(cv_x_onehotCoding)\n",
    "print('For values of best alpha = ', alpha[best_alpha], \"The cross validation log loss is:\",log_loss(y_cv, predict_y, labels=clf.classes_, eps=1e-15))\n",
    "predict_y = sig_clf.predict_proba(test_x_onehotCoding)\n",
    "print('For values of best alpha = ', alpha[best_alpha], \"The test log loss is:\",log_loss(y_test, predict_y, labels=clf.classes_, eps=1e-15))\n"
   ]
  },
  {
   "cell_type": "markdown",
   "metadata": {
    "id": "Ozp8TwTvOQy_"
   },
   "source": [
    "<h4>4.1.1.2. Testing the model with best hyper paramters</h4>"
   ]
  },
  {
   "cell_type": "code",
   "execution_count": 290,
   "metadata": {
    "id": "PBk-DferOQzA",
    "outputId": "f1f3d7a8-bf25-4b46-ff39-13e7ff358b76"
   },
   "outputs": [
    {
     "name": "stdout",
     "output_type": "stream",
     "text": [
      "Log Loss : 1.2872029417529405\n",
      "Number of missclassified point : 0.39473684210526316\n"
     ]
    }
   ],
   "source": [
    "clf = MultinomialNB(alpha=alpha[best_alpha])\n",
    "clf.fit(train_x_onehotCoding, train_y)\n",
    "sig_clf = CalibratedClassifierCV(clf, method=\"sigmoid\")\n",
    "sig_clf.fit(train_x_onehotCoding, train_y)\n",
    "sig_clf_probs = sig_clf.predict_proba(cv_x_onehotCoding)\n",
    "# to avoid rounding error while multiplying probabilites we use log-probability estimates\n",
    "print(\"Log Loss :\",log_loss(cv_y, sig_clf_probs))\n",
    "print(\"Number of missclassified point :\", np.count_nonzero((sig_clf.predict(cv_x_onehotCoding)- cv_y))/cv_y.shape[0])"
   ]
  },
  {
   "cell_type": "markdown",
   "metadata": {
    "id": "QU5KUv3HOQzF"
   },
   "source": [
    "<h4>4.1.1.3. Feature Importance, Correctly classified point</h4>"
   ]
  },
  {
   "cell_type": "code",
   "execution_count": 319,
   "metadata": {
    "id": "txRgyoK-OQzF",
    "outputId": "3ded7a9e-1e49-4d2c-ce2f-9b507522fcf2",
    "scrolled": false
   },
   "outputs": [
    {
     "name": "stdout",
     "output_type": "stream",
     "text": [
      "Predicted Class : 6\n",
      "Predicted Class Probabilities: [[0.0139 0.0327 0.0117 0.1388 0.0118 0.7451 0.0327 0.0062 0.0072]]\n",
      "Actual Class : 6\n",
      "--------------------------------------------------\n",
      "275 Text feature [logged] present in test data point [True]\n",
      "276 Text feature [hospitals] present in test data point [True]\n",
      "399 Text feature [r71g] present in test data point [True]\n",
      "480 Text feature [nih] present in test data point [True]\n",
      "530 Text feature [carcinomas] present in test data point [True]\n",
      "559 Text feature [assay] present in test data point [True]\n",
      "593 Text feature [3a] present in test data point [True]\n",
      "656 Text feature [carrying] present in test data point [True]\n",
      "675 Text feature [encoding] present in test data point [True]\n",
      "686 Text feature [author] present in test data point [True]\n",
      "688 Text feature [3b] present in test data point [True]\n",
      "699 Text feature [determine] present in test data point [True]\n",
      "752 Text feature [2c] present in test data point [True]\n",
      "757 Text feature [2a] present in test data point [True]\n",
      "761 Text feature [results] present in test data point [True]\n",
      "782 Text feature [previously] present in test data point [True]\n",
      "823 Text feature [2b] present in test data point [True]\n",
      "826 Text feature [mutants] present in test data point [True]\n",
      "847 Text feature [expressing] present in test data point [True]\n",
      "850 Text feature [16] present in test data point [True]\n",
      "863 Text feature [counselling] present in test data point [True]\n",
      "879 Text feature [revealed] present in test data point [True]\n",
      "893 Text feature [tagged] present in test data point [True]\n",
      "896 Text feature [specifically] present in test data point [True]\n",
      "899 Text feature [corresponding] present in test data point [True]\n",
      "905 Text feature [29] present in test data point [True]\n",
      "930 Text feature [occurring] present in test data point [True]\n",
      "943 Text feature [clones] present in test data point [True]\n",
      "968 Text feature [centrosome] present in test data point [True]\n",
      "985 Text feature [domain] present in test data point [True]\n",
      "986 Text feature [described] present in test data point [True]\n",
      "995 Text feature [weakened] present in test data point [True]\n",
      "997 Text feature [highly] present in test data point [True]\n",
      "Out of the top  1000  features  33 are present in query point\n"
     ]
    }
   ],
   "source": [
    "test_point_index = 1\n",
    "no_feature = 1000\n",
    "predicted_cls = sig_clf.predict(test_x_onehotCoding[test_point_index])\n",
    "print(\"Predicted Class :\", predicted_cls[0])\n",
    "print(\"Predicted Class Probabilities:\", np.round(sig_clf.predict_proba(test_x_onehotCoding[test_point_index]),4))\n",
    "print(\"Actual Class :\", test_y[test_point_index])\n",
    "indices=np.argsort(-1*abs(clf.coef_))[predicted_cls-1][:,:no_feature]\n",
    "print(\"-\"*50)\n",
    "get_impfeature_names(indices[0], test_df['TEXT'].iloc[test_point_index],test_df['Gene'].iloc[test_point_index],test_df['Variation'].iloc[test_point_index], no_feature)"
   ]
  },
  {
   "cell_type": "markdown",
   "metadata": {
    "id": "2borO6LOOQzJ"
   },
   "source": [
    "<h4>4.1.1.4. Feature Importance, correctly classified point</h4>"
   ]
  },
  {
   "cell_type": "code",
   "execution_count": 368,
   "metadata": {
    "id": "Bf1lnnLcOQzK",
    "outputId": "2bd53973-0bb6-4da0-df84-e36f6d6816ae",
    "scrolled": false
   },
   "outputs": [
    {
     "name": "stdout",
     "output_type": "stream",
     "text": [
      "Predicted Class : 5\n",
      "Predicted Class Probabilities: [[0.0812 0.0332 0.1474 0.1487 0.4712 0.0734 0.0289 0.0072 0.0088]]\n",
      "Actual Class : 5\n",
      "--------------------------------------------------\n",
      "481 Text feature [h1686q] present in test data point [True]\n",
      "583 Text feature [m1652i] present in test data point [True]\n",
      "878 Text feature [1706] present in test data point [True]\n",
      "899 Text feature [polymorphisms] present in test data point [True]\n",
      "905 Text feature [nontruncating] present in test data point [True]\n",
      "923 Text feature [amsterdam] present in test data point [True]\n",
      "954 Text feature [germline] present in test data point [True]\n",
      "957 Text feature [principle] present in test data point [True]\n",
      "Out of the top  1000  features  8 are present in query point\n"
     ]
    }
   ],
   "source": [
    "test_point_index = 100\n",
    "no_feature = 1000\n",
    "predicted_cls = sig_clf.predict(test_x_onehotCoding[test_point_index])\n",
    "print(\"Predicted Class :\", predicted_cls[0])\n",
    "print(\"Predicted Class Probabilities:\", np.round(sig_clf.predict_proba(test_x_onehotCoding[test_point_index]),4))\n",
    "print(\"Actual Class :\", test_y[test_point_index])\n",
    "indices = np.argsort(-1*abs(clf.coef_))[predicted_cls-1][:,:no_feature]\n",
    "print(\"-\"*50)\n",
    "get_impfeature_names(indices[0], test_df['TEXT'].iloc[test_point_index],test_df['Gene'].iloc[test_point_index],test_df['Variation'].iloc[test_point_index], no_feature)"
   ]
  },
  {
   "cell_type": "markdown",
   "metadata": {
    "id": "hs4v7Fc1OQzj"
   },
   "source": [
    "<h2>4.3. Logistic Regression</h2>"
   ]
  },
  {
   "cell_type": "markdown",
   "metadata": {
    "id": "Hj1NGUOnOQzj"
   },
   "source": [
    "<h3>4.3.1. With Class balancing</h3>"
   ]
  },
  {
   "cell_type": "markdown",
   "metadata": {
    "id": "_OsvP1C6OQzk"
   },
   "source": [
    "<h4>4.3.1.1. Hyper paramter tuning</h4>"
   ]
  },
  {
   "cell_type": "code",
   "execution_count": 376,
   "metadata": {
    "id": "6gknPIAJOQzl",
    "outputId": "4855f394-79f4-4089-e43c-c5de2c03df1f"
   },
   "outputs": [
    {
     "name": "stdout",
     "output_type": "stream",
     "text": [
      "for alpha = 1e-06\n",
      "Log Loss : 1.1893958286282043\n",
      "for alpha = 1e-05\n",
      "Log Loss : 1.1893691528911041\n",
      "for alpha = 0.0001\n",
      "Log Loss : 1.189169611613886\n",
      "for alpha = 0.001\n",
      "Log Loss : 1.187755807203938\n",
      "for alpha = 0.01\n",
      "Log Loss : 1.1467530537010748\n",
      "for alpha = 0.1\n",
      "Log Loss : 1.0833874222447637\n",
      "for alpha = 1\n",
      "Log Loss : 1.0686871902970894\n",
      "for alpha = 10\n",
      "Log Loss : 1.0662939981230224\n",
      "for alpha = 100\n",
      "Log Loss : 1.0683770162293336\n"
     ]
    },
    {
     "data": {
      "image/png": "[encoded data removed]",
      "text/plain": [
       "<Figure size 432x288 with 1 Axes>"
      ]
     },
     "metadata": {
      "needs_background": "light"
     },
     "output_type": "display_data"
    },
    {
     "name": "stdout",
     "output_type": "stream",
     "text": [
      "For values of best alpha =  10 The train log loss is: 0.4848194562421017\n",
      "For values of best alpha =  10 The cross validation log loss is: 1.0662939981230224\n",
      "For values of best alpha =  10 The test log loss is: 1.0267527157018783\n"
     ]
    }
   ],
   "source": [
    "alpha = [10 ** x for x in range(-6, 3)]\n",
    "cv_log_error_array = []\n",
    "for i in alpha:\n",
    "    print(\"for alpha =\", i)\n",
    "    clf = LogisticRegression(class_weight='balanced', C=i, penalty='l2', random_state=42)\n",
    "    clf.fit(train_x_onehotCoding, train_y)\n",
    "    sig_clf = CalibratedClassifierCV(clf, method=\"sigmoid\")\n",
    "    sig_clf.fit(train_x_onehotCoding, train_y)\n",
    "    sig_clf_probs = sig_clf.predict_proba(cv_x_onehotCoding)\n",
    "    cv_log_error_array.append(log_loss(cv_y, sig_clf_probs, labels=clf.classes_, eps=1e-15))\n",
    "    # to avoid rounding error while multiplying probabilites we use log-probability estimates\n",
    "    print(\"Log Loss :\",log_loss(cv_y, sig_clf_probs)) \n",
    "\n",
    "fig, ax = plt.subplots()\n",
    "ax.plot(alpha, cv_log_error_array,c='g')\n",
    "for i, txt in enumerate(np.round(cv_log_error_array,3)):\n",
    "    ax.annotate((alpha[i],str(txt)), (alpha[i],cv_log_error_array[i]))\n",
    "plt.grid()\n",
    "plt.title(\"Cross Validation Error for each alpha\")\n",
    "plt.xlabel(\"Alpha i's\")\n",
    "plt.ylabel(\"Error measure\")\n",
    "plt.show()\n",
    "\n",
    "\n",
    "best_alpha = np.argmin(cv_log_error_array)\n",
    "clf = LogisticRegression(class_weight='balanced', C=alpha[best_alpha], penalty='l2', random_state=42)\n",
    "clf.fit(train_x_onehotCoding, train_y)\n",
    "sig_clf = CalibratedClassifierCV(clf, method=\"sigmoid\")\n",
    "sig_clf.fit(train_x_onehotCoding, train_y)\n",
    "\n",
    "predict_y = sig_clf.predict_proba(train_x_onehotCoding)\n",
    "print('For values of best alpha = ', alpha[best_alpha], \"The train log loss is:\",log_loss(y_train, predict_y, labels=clf.classes_))\n",
    "predict_y = sig_clf.predict_proba(cv_x_onehotCoding)\n",
    "print('For values of best alpha = ', alpha[best_alpha], \"The cross validation log loss is:\",log_loss(y_cv, predict_y, labels=clf.classes_))\n",
    "predict_y = sig_clf.predict_proba(test_x_onehotCoding)\n",
    "print('For values of best alpha = ', alpha[best_alpha], \"The test log loss is:\",log_loss(y_test, predict_y, labels=clf.classes_))"
   ]
  },
  {
   "cell_type": "markdown",
   "metadata": {
    "id": "P9qgkiEwOQzq"
   },
   "source": [
    "<h4>4.3.1.3. Feature Importance</h4>"
   ]
  },
  {
   "cell_type": "code",
   "execution_count": 377,
   "metadata": {
    "id": "cAN-uQIUOQzr"
   },
   "outputs": [],
   "source": [
    "def get_imp_feature_names(text, indices, removed_ind = []):\n",
    "    word_present = 0\n",
    "    tabulte_list = []\n",
    "    incresingorder_ind = 0\n",
    "    for i in indices:\n",
    "        if i < train_gene_feature_onehotCoding.shape[1]:\n",
    "            tabulte_list.append([incresingorder_ind, \"Gene\", \"Yes\"])\n",
    "        elif i< 18:\n",
    "            tabulte_list.append([incresingorder_ind,\"Variation\", \"Yes\"])\n",
    "        if ((i > 17) & (i not in removed_ind)) :\n",
    "            word = train_text_features[i]\n",
    "            yes_no = True if word in text.split() else False\n",
    "            if yes_no:\n",
    "                word_present += 1\n",
    "            tabulte_list.append([incresingorder_ind,train_text_features[i], yes_no])\n",
    "        incresingorder_ind += 1\n",
    "    print(word_present, \"most importent features are present in our query point\")\n",
    "    print(\"-\"*50)\n",
    "    print(\"The features that are most importent of the \",predicted_cls[0],\" class:\")\n",
    "    print (tabulate(tabulte_list, headers=[\"Index\",'Feature name', 'Present or Not']))"
   ]
  },
  {
   "cell_type": "markdown",
   "metadata": {
    "id": "6UMOPzp5OQzs"
   },
   "source": [
    "<h5>4.3.1.3.1. Correctly Classified point</h5>"
   ]
  },
  {
   "cell_type": "code",
   "execution_count": 378,
   "metadata": {
    "id": "vrELublWOQzs",
    "outputId": "0c33afb4-3594-4777-a290-a6d9e0a407ac",
    "scrolled": false
   },
   "outputs": [
    {
     "name": "stdout",
     "output_type": "stream",
     "text": [
      "Predicted Class : 6\n",
      "Predicted Class Probabilities: [[0.0195 0.0219 0.018  0.1777 0.0142 0.7238 0.0182 0.0037 0.003 ]]\n",
      "Actual Class : 6\n",
      "--------------------------------------------------\n",
      "17 Text feature [results] present in test data point [True]\n",
      "20 Text feature [previously] present in test data point [True]\n",
      "21 Text feature [discussion] present in test data point [True]\n",
      "22 Text feature [also] present in test data point [True]\n",
      "23 Text feature [using] present in test data point [True]\n",
      "24 Text feature [found] present in test data point [True]\n",
      "26 Text feature [described] present in test data point [True]\n",
      "27 Text feature [may] present in test data point [True]\n",
      "28 Text feature [two] present in test data point [True]\n",
      "29 Text feature [well] present in test data point [True]\n",
      "30 Text feature [whereas] present in test data point [True]\n",
      "31 Text feature [shown] present in test data point [True]\n",
      "33 Text feature [one] present in test data point [True]\n",
      "34 Text feature [similar] present in test data point [True]\n",
      "35 Text feature [three] present in test data point [True]\n",
      "36 Text feature [addition] present in test data point [True]\n",
      "37 Text feature [protein] present in test data point [True]\n",
      "38 Text feature [however] present in test data point [True]\n",
      "39 Text feature [mutations] present in test data point [True]\n",
      "40 Text feature [different] present in test data point [True]\n",
      "41 Text feature [type] present in test data point [True]\n",
      "43 Text feature [although] present in test data point [True]\n",
      "44 Text feature [either] present in test data point [True]\n",
      "45 Text feature [suggest] present in test data point [True]\n",
      "47 Text feature [several] present in test data point [True]\n",
      "48 Text feature [cells] present in test data point [True]\n",
      "49 Text feature [presence] present in test data point [True]\n",
      "50 Text feature [introduction] present in test data point [True]\n",
      "51 Text feature [performed] present in test data point [True]\n",
      "52 Text feature [possible] present in test data point [True]\n",
      "53 Text feature [revealed] present in test data point [True]\n",
      "54 Text feature [including] present in test data point [True]\n",
      "55 Text feature [another] present in test data point [True]\n",
      "56 Text feature [identified] present in test data point [True]\n",
      "58 Text feature [analysis] present in test data point [True]\n",
      "59 Text feature [figure] present in test data point [True]\n",
      "60 Text feature [result] present in test data point [True]\n",
      "61 Text feature [showed] present in test data point [True]\n",
      "62 Text feature [table] present in test data point [True]\n",
      "63 Text feature [previous] present in test data point [True]\n",
      "64 Text feature [within] present in test data point [True]\n",
      "65 Text feature [compared] present in test data point [True]\n",
      "66 Text feature [determine] present in test data point [True]\n",
      "67 Text feature [whether] present in test data point [True]\n",
      "68 Text feature [confirmed] present in test data point [True]\n",
      "69 Text feature [10] present in test data point [True]\n",
      "70 Text feature [furthermore] present in test data point [True]\n",
      "71 Text feature [present] present in test data point [True]\n",
      "72 Text feature [effect] present in test data point [True]\n",
      "73 Text feature [acid] present in test data point [True]\n",
      "74 Text feature [used] present in test data point [True]\n",
      "75 Text feature [resulting] present in test data point [True]\n",
      "76 Text feature [wild] present in test data point [True]\n",
      "77 Text feature [additional] present in test data point [True]\n",
      "79 Text feature [consistent] present in test data point [True]\n",
      "80 Text feature [show] present in test data point [True]\n",
      "82 Text feature [therefore] present in test data point [True]\n",
      "83 Text feature [four] present in test data point [True]\n",
      "85 Text feature [contrast] present in test data point [True]\n",
      "86 Text feature [suggesting] present in test data point [True]\n",
      "87 Text feature [important] present in test data point [True]\n",
      "88 Text feature [thus] present in test data point [True]\n",
      "89 Text feature [findings] present in test data point [True]\n",
      "90 Text feature [studies] present in test data point [True]\n",
      "95 Text feature [indicating] present in test data point [True]\n",
      "96 Text feature [human] present in test data point [True]\n",
      "97 Text feature [expressed] present in test data point [True]\n",
      "98 Text feature [function] present in test data point [True]\n",
      "99 Text feature [3a] present in test data point [True]\n",
      "100 Text feature [could] present in test data point [True]\n",
      "101 Text feature [fig] present in test data point [True]\n",
      "102 Text feature [experiments] present in test data point [True]\n",
      "103 Text feature [specific] present in test data point [True]\n",
      "104 Text feature [reported] present in test data point [True]\n",
      "105 Text feature [vitro] present in test data point [True]\n",
      "106 Text feature [control] present in test data point [True]\n",
      "107 Text feature [together] present in test data point [True]\n",
      "108 Text feature [cell] present in test data point [True]\n",
      "109 Text feature [15] present in test data point [True]\n",
      "110 Text feature [single] present in test data point [True]\n",
      "111 Text feature [indicated] present in test data point [True]\n",
      "112 Text feature [critical] present in test data point [True]\n",
      "114 Text feature [system] present in test data point [True]\n",
      "116 Text feature [activity] present in test data point [True]\n",
      "119 Text feature [highly] present in test data point [True]\n",
      "120 Text feature [mutant] present in test data point [True]\n",
      "121 Text feature [less] present in test data point [True]\n",
      "123 Text feature [followed] present in test data point [True]\n",
      "124 Text feature [mutation] present in test data point [True]\n",
      "125 Text feature [amino] present in test data point [True]\n",
      "126 Text feature [domain] present in test data point [True]\n",
      "127 Text feature [lower] present in test data point [True]\n",
      "128 Text feature [data] present in test data point [True]\n",
      "129 Text feature [suggested] present in test data point [True]\n",
      "131 Text feature [possibility] present in test data point [True]\n",
      "132 Text feature [suggests] present in test data point [True]\n",
      "139 Text feature [associated] present in test data point [True]\n",
      "140 Text feature [five] present in test data point [True]\n",
      "141 Text feature [independent] present in test data point [True]\n",
      "142 Text feature [1a] present in test data point [True]\n",
      "143 Text feature [based] present in test data point [True]\n",
      "144 Text feature [40] present in test data point [True]\n",
      "145 Text feature [taken] present in test data point [True]\n",
      "146 Text feature [relative] present in test data point [True]\n",
      "147 Text feature [molecular] present in test data point [True]\n",
      "151 Text feature [directly] present in test data point [True]\n",
      "152 Text feature [represent] present in test data point [True]\n",
      "154 Text feature [contribute] present in test data point [True]\n",
      "156 Text feature [gene] present in test data point [True]\n",
      "157 Text feature [corresponding] present in test data point [True]\n",
      "159 Text feature [1b] present in test data point [True]\n",
      "160 Text feature [expression] present in test data point [True]\n",
      "162 Text feature [high] present in test data point [True]\n",
      "163 Text feature [identify] present in test data point [True]\n",
      "165 Text feature [occur] present in test data point [True]\n",
      "166 Text feature [without] present in test data point [True]\n",
      "167 Text feature [generated] present in test data point [True]\n",
      "168 Text feature [recent] present in test data point [True]\n",
      "169 Text feature [3b] present in test data point [True]\n",
      "172 Text feature [provide] present in test data point [True]\n",
      "173 Text feature [tested] present in test data point [True]\n",
      "174 Text feature [part] present in test data point [True]\n",
      "175 Text feature [potential] present in test data point [True]\n",
      "178 Text feature [moreover] present in test data point [True]\n",
      "179 Text feature [distinct] present in test data point [True]\n",
      "182 Text feature [might] present in test data point [True]\n",
      "183 Text feature [complete] present in test data point [True]\n",
      "184 Text feature [derived] present in test data point [True]\n",
      "185 Text feature [role] present in test data point [True]\n",
      "188 Text feature [indicates] present in test data point [True]\n",
      "189 Text feature [identification] present in test data point [True]\n",
      "192 Text feature [multiple] present in test data point [True]\n",
      "194 Text feature [proteins] present in test data point [True]\n",
      "196 Text feature [cancer] present in test data point [True]\n",
      "197 Text feature [expressing] present in test data point [True]\n"
     ]
    },
    {
     "name": "stdout",
     "output_type": "stream",
     "text": [
      "198 Text feature [point] present in test data point [True]\n",
      "200 Text feature [low] present in test data point [True]\n",
      "204 Text feature [25] present in test data point [True]\n",
      "206 Text feature [24] present in test data point [True]\n",
      "208 Text feature [confirm] present in test data point [True]\n",
      "209 Text feature [provided] present in test data point [True]\n",
      "212 Text feature [frequently] present in test data point [True]\n",
      "213 Text feature [16] present in test data point [True]\n",
      "215 Text feature [study] present in test data point [True]\n",
      "216 Text feature [comparison] present in test data point [True]\n",
      "218 Text feature [levels] present in test data point [True]\n",
      "219 Text feature [encoding] present in test data point [True]\n",
      "221 Text feature [common] present in test data point [True]\n",
      "222 Text feature [significantly] present in test data point [True]\n",
      "223 Text feature [mutants] present in test data point [True]\n",
      "224 Text feature [likely] present in test data point [True]\n",
      "227 Text feature [pcr] present in test data point [True]\n",
      "228 Text feature [selected] present in test data point [True]\n",
      "229 Text feature [examined] present in test data point [True]\n",
      "230 Text feature [significant] present in test data point [True]\n",
      "231 Text feature [next] present in test data point [True]\n",
      "232 Text feature [major] present in test data point [True]\n",
      "234 Text feature [12] present in test data point [True]\n",
      "236 Text feature [small] present in test data point [True]\n",
      "239 Text feature [2c] present in test data point [True]\n",
      "240 Text feature [negative] present in test data point [True]\n",
      "241 Text feature [would] present in test data point [True]\n",
      "242 Text feature [known] present in test data point [True]\n",
      "245 Text feature [2b] present in test data point [True]\n",
      "246 Text feature [cause] present in test data point [True]\n",
      "247 Text feature [included] present in test data point [True]\n",
      "248 Text feature [ability] present in test data point [True]\n",
      "249 Text feature [first] present in test data point [True]\n",
      "250 Text feature [include] present in test data point [True]\n",
      "251 Text feature [test] present in test data point [True]\n",
      "252 Text feature [majority] present in test data point [True]\n",
      "253 Text feature [s1] present in test data point [True]\n",
      "254 Text feature [growth] present in test data point [True]\n",
      "255 Text feature [specifically] present in test data point [True]\n",
      "256 Text feature [located] present in test data point [True]\n",
      "257 Text feature [involved] present in test data point [True]\n",
      "260 Text feature [indeed] present in test data point [True]\n",
      "262 Text feature [yet] present in test data point [True]\n",
      "263 Text feature [eight] present in test data point [True]\n",
      "264 Text feature [2a] present in test data point [True]\n",
      "266 Text feature [forms] present in test data point [True]\n",
      "267 Text feature [except] present in test data point [True]\n",
      "268 Text feature [leading] present in test data point [True]\n",
      "269 Text feature [reduced] present in test data point [True]\n",
      "270 Text feature [others] present in test data point [True]\n",
      "273 Text feature [3c] present in test data point [True]\n",
      "275 Text feature [fold] present in test data point [True]\n",
      "276 Text feature [dependent] present in test data point [True]\n",
      "278 Text feature [1c] present in test data point [True]\n",
      "280 Text feature [responsible] present in test data point [True]\n",
      "281 Text feature [required] present in test data point [True]\n",
      "284 Text feature [100] present in test data point [True]\n",
      "287 Text feature [many] present in test data point [True]\n",
      "288 Text feature [form] present in test data point [True]\n",
      "289 Text feature [caused] present in test data point [True]\n",
      "290 Text feature [strongly] present in test data point [True]\n",
      "291 Text feature [tumor] present in test data point [True]\n",
      "297 Text feature [region] present in test data point [True]\n",
      "298 Text feature [particular] present in test data point [True]\n",
      "300 Text feature [fact] present in test data point [True]\n",
      "301 Text feature [29] present in test data point [True]\n",
      "302 Text feature [mediated] present in test data point [True]\n",
      "306 Text feature [expected] present in test data point [True]\n",
      "307 Text feature [directed] present in test data point [True]\n",
      "309 Text feature [absence] present in test data point [True]\n",
      "319 Text feature [cellular] present in test data point [True]\n",
      "322 Text feature [remaining] present in test data point [True]\n",
      "323 Text feature [subset] present in test data point [True]\n",
      "324 Text feature [27] present in test data point [True]\n",
      "325 Text feature [13] present in test data point [True]\n",
      "326 Text feature [observation] present in test data point [True]\n",
      "327 Text feature [activation] present in test data point [True]\n",
      "328 Text feature [example] present in test data point [True]\n",
      "330 Text feature [constructs] present in test data point [True]\n",
      "334 Text feature [sufficient] present in test data point [True]\n",
      "336 Text feature [cases] present in test data point [True]\n",
      "340 Text feature [key] present in test data point [True]\n",
      "341 Text feature [normal] present in test data point [True]\n",
      "344 Text feature [mutated] present in test data point [True]\n",
      "345 Text feature [reveal] present in test data point [True]\n",
      "346 Text feature [much] present in test data point [True]\n",
      "350 Text feature [summary] present in test data point [True]\n",
      "351 Text feature [functional] present in test data point [True]\n",
      "353 Text feature [prepared] present in test data point [True]\n",
      "354 Text feature [14] present in test data point [True]\n",
      "356 Text feature [able] present in test data point [True]\n",
      "359 Text feature [representative] present in test data point [True]\n",
      "365 Text feature [case] present in test data point [True]\n",
      "371 Text feature [consequences] present in test data point [True]\n",
      "374 Text feature [listed] present in test data point [True]\n",
      "377 Text feature [necessary] present in test data point [True]\n",
      "380 Text feature [little] present in test data point [True]\n",
      "381 Text feature [assay] present in test data point [True]\n",
      "382 Text feature [relevant] present in test data point [True]\n",
      "383 Text feature [analyses] present in test data point [True]\n",
      "386 Text feature [non] present in test data point [True]\n",
      "387 Text feature [positive] present in test data point [True]\n",
      "389 Text feature [comparable] present in test data point [True]\n",
      "390 Text feature [third] present in test data point [True]\n",
      "392 Text feature [proliferation] present in test data point [True]\n",
      "396 Text feature [1d] present in test data point [True]\n",
      "397 Text feature [phenotype] present in test data point [True]\n",
      "399 Text feature [shows] present in test data point [True]\n",
      "402 Text feature [strong] present in test data point [True]\n",
      "403 Text feature [experimental] present in test data point [True]\n",
      "406 Text feature [full] present in test data point [True]\n",
      "409 Text feature [failed] present in test data point [True]\n",
      "411 Text feature [essential] present in test data point [True]\n",
      "412 Text feature [red] present in test data point [True]\n",
      "414 Text feature [far] present in test data point [True]\n",
      "415 Text feature [work] present in test data point [True]\n",
      "419 Text feature [binding] present in test data point [True]\n",
      "421 Text feature [made] present in test data point [True]\n",
      "424 Text feature [particularly] present in test data point [True]\n",
      "427 Text feature [sequence] present in test data point [True]\n",
      "430 Text feature [et] present in test data point [True]\n",
      "431 Text feature [position] present in test data point [True]\n",
      "433 Text feature [change] present in test data point [True]\n",
      "434 Text feature [functions] present in test data point [True]\n",
      "437 Text feature [18] present in test data point [True]\n",
      "438 Text feature [al] present in test data point [True]\n",
      "439 Text feature [association] present in test data point [True]\n",
      "442 Text feature [appear] present in test data point [True]\n",
      "443 Text feature [genomic] present in test data point [True]\n",
      "445 Text feature [remain] present in test data point [True]\n",
      "446 Text feature [larger] present in test data point [True]\n",
      "447 Text feature [whole] present in test data point [True]\n",
      "448 Text feature [generate] present in test data point [True]\n",
      "449 Text feature [impact] present in test data point [True]\n",
      "454 Text feature [development] present in test data point [True]\n",
      "456 Text feature [mechanisms] present in test data point [True]\n",
      "457 Text feature [nine] present in test data point [True]\n"
     ]
    },
    {
     "name": "stdout",
     "output_type": "stream",
     "text": [
      "458 Text feature [understanding] present in test data point [True]\n",
      "464 Text feature [series] present in test data point [True]\n",
      "465 Text feature [unclear] present in test data point [True]\n",
      "466 Text feature [26] present in test data point [True]\n",
      "467 Text feature [manner] present in test data point [True]\n",
      "470 Text feature [http] present in test data point [True]\n",
      "474 Text feature [seven] present in test data point [True]\n",
      "475 Text feature [published] present in test data point [True]\n",
      "476 Text feature [number] present in test data point [True]\n",
      "477 Text feature [observations] present in test data point [True]\n",
      "479 Text feature [display] present in test data point [True]\n",
      "482 Text feature [signal] present in test data point [True]\n",
      "483 Text feature [44] present in test data point [True]\n",
      "485 Text feature [lines] present in test data point [True]\n",
      "491 Text feature [subsequent] present in test data point [True]\n",
      "495 Text feature [32] present in test data point [True]\n",
      "498 Text feature [applied] present in test data point [True]\n",
      "499 Text feature [31] present in test data point [True]\n",
      "Out of the top  500  features  290 are present in query point\n"
     ]
    }
   ],
   "source": [
    "clf = SGDClassifier(class_weight='balanced', alpha=alpha[best_alpha], penalty='l2', loss='log', random_state=42)\n",
    "clf.fit(train_x_onehotCoding,train_y)\n",
    "test_point_index = 1\n",
    "no_feature = 500\n",
    "predicted_cls = sig_clf.predict(test_x_onehotCoding[test_point_index])\n",
    "print(\"Predicted Class :\", predicted_cls[0])\n",
    "print(\"Predicted Class Probabilities:\", np.round(sig_clf.predict_proba(test_x_onehotCoding[test_point_index]),4))\n",
    "print(\"Actual Class :\", test_y[test_point_index])\n",
    "indices = np.argsort(-1*abs(clf.coef_))[predicted_cls-1][:,:no_feature]\n",
    "print(\"-\"*50)\n",
    "get_impfeature_names(indices[0], test_df['TEXT'].iloc[test_point_index],test_df['Gene'].iloc[test_point_index],test_df['Variation'].iloc[test_point_index], no_feature)"
   ]
  },
  {
   "cell_type": "markdown",
   "metadata": {
    "id": "ONkuybENOQzu"
   },
   "source": [
    "<h5>4.3.1.3.2. Correctly Classified point</h5>"
   ]
  },
  {
   "cell_type": "code",
   "execution_count": null,
   "metadata": {
    "id": "YoIr_YdaOQzv",
    "outputId": "e0463c66-61ce-4a85-d535-16ac1e1dff6a"
   },
   "outputs": [
    {
     "name": "stdout",
     "output_type": "stream",
     "text": [
      "Predicted Class : 7\n",
      "Predicted Class Probabilities: [[0.0482 0.2032 0.0108 0.0446 0.071  0.0164 0.5932 0.0078 0.0046]]\n",
      "Actual Class : 7\n",
      "--------------------------------------------------\n",
      "23 Text feature [constitutively] present in test data point [True]\n",
      "29 Text feature [constitutive] present in test data point [True]\n",
      "47 Text feature [activated] present in test data point [True]\n",
      "79 Text feature [oncogene] present in test data point [True]\n",
      "89 Text feature [inhibited] present in test data point [True]\n",
      "93 Text feature [transforming] present in test data point [True]\n",
      "108 Text feature [transform] present in test data point [True]\n",
      "148 Text feature [receptors] present in test data point [True]\n",
      "177 Text feature [downstream] present in test data point [True]\n",
      "210 Text feature [isozyme] present in test data point [True]\n",
      "217 Text feature [activating] present in test data point [True]\n",
      "232 Text feature [exchange] present in test data point [True]\n",
      "326 Text feature [murine] present in test data point [True]\n",
      "333 Text feature [agar] present in test data point [True]\n",
      "334 Text feature [activation] present in test data point [True]\n",
      "Out of the top  500  features  15 are present in query point\n"
     ]
    }
   ],
   "source": [
    "test_point_index = 100\n",
    "no_feature = 500\n",
    "predicted_cls = sig_clf.predict(test_x_onehotCoding[test_point_index])\n",
    "print(\"Predicted Class :\", predicted_cls[0])\n",
    "print(\"Predicted Class Probabilities:\", np.round(sig_clf.predict_proba(test_x_onehotCoding[test_point_index]),4))\n",
    "print(\"Actual Class :\", test_y[test_point_index])\n",
    "indices = np.argsort(-1*abs(clf.coef_))[predicted_cls-1][:,:no_feature]\n",
    "print(\"-\"*50)\n",
    "get_impfeature_names(indices[0], test_df['TEXT'].iloc[test_point_index],test_df['Gene'].iloc[test_point_index],test_df['Variation'].iloc[test_point_index], no_feature)"
   ]
  },
  {
   "cell_type": "markdown",
   "metadata": {
    "id": "CEnJCfulOQz8"
   },
   "source": [
    "<h2>4.4. Linear Support Vector Machines</h2>"
   ]
  },
  {
   "cell_type": "markdown",
   "metadata": {
    "id": "nQfL7DVoOQz8"
   },
   "source": [
    "<h3>4.4.1. Hyper paramter tuning</h3>"
   ]
  },
  {
   "cell_type": "code",
   "execution_count": 380,
   "metadata": {
    "id": "eH-oXVB3OQz9",
    "outputId": "28792e9b-acd3-458c-a36e-fddc68cc6fb9"
   },
   "outputs": [
    {
     "name": "stdout",
     "output_type": "stream",
     "text": [
      "for C = 1e-05\n",
      "Log Loss : 1.217874722741292\n",
      "for C = 0.0001\n",
      "Log Loss : 1.2031863856585732\n",
      "for C = 0.001\n",
      "Log Loss : 1.2310990502089254\n",
      "for C = 0.01\n",
      "Log Loss : 1.1336759046845692\n",
      "for C = 0.1\n",
      "Log Loss : 1.0862592335287435\n",
      "for C = 1\n",
      "Log Loss : 1.0601449848408957\n",
      "for C = 10\n",
      "Log Loss : 1.056095454190483\n",
      "for C = 100\n",
      "Log Loss : 1.056095454190483\n"
     ]
    },
    {
     "data": {
      "image/png": "[encoded data removed]",
      "text/plain": [
       "<Figure size 432x288 with 1 Axes>"
      ]
     },
     "metadata": {
      "needs_background": "light"
     },
     "output_type": "display_data"
    },
    {
     "name": "stdout",
     "output_type": "stream",
     "text": [
      "For values of best alpha =  10 The train log loss is: 0.5874149782998757\n",
      "For values of best alpha =  10 The cross validation log loss is: 1.056095454190483\n",
      "For values of best alpha =  10 The test log loss is: 1.0256653698008409\n"
     ]
    }
   ],
   "source": [
    "alpha = [10 ** x for x in range(-5, 3)]\n",
    "cv_log_error_array = []\n",
    "for i in alpha:\n",
    "    print(\"for C =\", i)\n",
    "    clf = SVC( class_weight='balanced', C=i, kernel='linear', random_state=42)\n",
    "    clf.fit(train_x_onehotCoding, train_y)\n",
    "    sig_clf = CalibratedClassifierCV(clf, method=\"sigmoid\")\n",
    "    sig_clf.fit(train_x_onehotCoding, train_y)\n",
    "    sig_clf_probs = sig_clf.predict_proba(cv_x_onehotCoding)\n",
    "    cv_log_error_array.append(log_loss(cv_y, sig_clf_probs, labels=clf.classes_, eps=1e-15))\n",
    "    print(\"Log Loss :\",log_loss(cv_y, sig_clf_probs)) \n",
    "\n",
    "fig, ax = plt.subplots()\n",
    "ax.plot(alpha, cv_log_error_array,c='g')\n",
    "for i, txt in enumerate(np.round(cv_log_error_array,3)):\n",
    "    ax.annotate((alpha[i],str(txt)), (alpha[i],cv_log_error_array[i]))\n",
    "plt.grid()\n",
    "plt.title(\"Cross Validation Error for each alpha\")\n",
    "plt.xlabel(\"Alpha i's\")\n",
    "plt.ylabel(\"Error measure\")\n",
    "plt.show()\n",
    "\n",
    "\n",
    "best_alpha = np.argmin(cv_log_error_array)\n",
    "clf = SVC(class_weight='balanced', C=alpha[best_alpha], kernel='linear', random_state=42)\n",
    "clf.fit(train_x_onehotCoding, train_y)\n",
    "sig_clf = CalibratedClassifierCV(clf, method=\"sigmoid\")\n",
    "sig_clf.fit(train_x_onehotCoding, train_y)\n",
    "\n",
    "predict_y = sig_clf.predict_proba(train_x_onehotCoding)\n",
    "print('For values of best alpha = ', alpha[best_alpha], \"The train log loss is:\",log_loss(y_train, predict_y, labels=clf.classes_, eps=1e-15))\n",
    "predict_y = sig_clf.predict_proba(cv_x_onehotCoding)\n",
    "print('For values of best alpha = ', alpha[best_alpha], \"The cross validation log loss is:\",log_loss(y_cv, predict_y, labels=clf.classes_, eps=1e-15))\n",
    "predict_y = sig_clf.predict_proba(test_x_onehotCoding)\n",
    "print('For values of best alpha = ', alpha[best_alpha], \"The test log loss is:\",log_loss(y_test, predict_y, labels=clf.classes_, eps=1e-15))"
   ]
  },
  {
   "cell_type": "markdown",
   "metadata": {
    "id": "Qo8UpfnJOQ0G"
   },
   "source": [
    "<h2>4.5 Random Forest Classifier</h2>"
   ]
  },
  {
   "cell_type": "markdown",
   "metadata": {
    "id": "vQ9sdCvQOQ0H"
   },
   "source": [
    "<h3>4.5.1. Hyper paramter tuning (With One hot Encoding)</h3>"
   ]
  },
  {
   "cell_type": "code",
   "execution_count": null,
   "metadata": {
    "id": "LNV3DyqiOQ0H",
    "outputId": "a9d6a39c-e16f-4330-ceec-850b854a3438"
   },
   "outputs": [
    {
     "name": "stdout",
     "output_type": "stream",
     "text": [
      "for n_estimators = 100 and max depth =  5\n",
      "Log Loss : 1.2572535683354957\n",
      "for n_estimators = 100 and max depth =  10\n",
      "Log Loss : 1.1868414223711878\n",
      "for n_estimators = 200 and max depth =  5\n",
      "Log Loss : 1.2378734502517341\n",
      "for n_estimators = 200 and max depth =  10\n",
      "Log Loss : 1.1811031780258958\n",
      "for n_estimators = 500 and max depth =  5\n",
      "Log Loss : 1.2368241894319212\n",
      "for n_estimators = 500 and max depth =  10\n",
      "Log Loss : 1.176754594516683\n",
      "for n_estimators = 1000 and max depth =  5\n",
      "Log Loss : 1.2357829533963691\n",
      "for n_estimators = 1000 and max depth =  10\n",
      "Log Loss : 1.174993079576866\n",
      "for n_estimators = 2000 and max depth =  5\n",
      "Log Loss : 1.236042392554891\n",
      "for n_estimators = 2000 and max depth =  10\n",
      "Log Loss : 1.1759745074379755\n",
      "For values of best estimator =  1000 The train log loss is: 0.7095396732082752\n",
      "For values of best estimator =  1000 The cross validation log loss is: 1.174993079576866\n",
      "For values of best estimator =  1000 The test log loss is: 1.1630923149103904\n"
     ]
    }
   ],
   "source": [
    "alpha = [100,200,500,1000,2000]\n",
    "max_depth = [5, 10]\n",
    "cv_log_error_array = []\n",
    "for i in alpha:\n",
    "    for j in max_depth:\n",
    "        print(\"for n_estimators =\", i,\"and max depth = \", j)\n",
    "        clf = RandomForestClassifier(n_estimators=i, criterion='gini', max_depth=j, random_state=42, n_jobs=-1)\n",
    "        clf.fit(train_x_onehotCoding, train_y)\n",
    "        sig_clf = CalibratedClassifierCV(clf, method=\"sigmoid\")\n",
    "        sig_clf.fit(train_x_onehotCoding, train_y)\n",
    "        sig_clf_probs = sig_clf.predict_proba(cv_x_onehotCoding)\n",
    "        cv_log_error_array.append(log_loss(cv_y, sig_clf_probs, labels=clf.classes_, eps=1e-15))\n",
    "        print(\"Log Loss :\",log_loss(cv_y, sig_clf_probs)) \n",
    "\n",
    "best_alpha = np.argmin(cv_log_error_array)\n",
    "clf = RandomForestClassifier(n_estimators=alpha[int(best_alpha/2)], criterion='gini', max_depth=max_depth[int(best_alpha%2)], random_state=42, n_jobs=-1)\n",
    "clf.fit(train_x_onehotCoding, train_y)\n",
    "sig_clf = CalibratedClassifierCV(clf, method=\"sigmoid\")\n",
    "sig_clf.fit(train_x_onehotCoding, train_y)\n",
    "\n",
    "predict_y = sig_clf.predict_proba(train_x_onehotCoding)\n",
    "print('For values of best estimator = ', alpha[int(best_alpha/2)], \"The train log loss is:\",log_loss(y_train, predict_y, labels=clf.classes_, eps=1e-15))\n",
    "predict_y = sig_clf.predict_proba(cv_x_onehotCoding)\n",
    "print('For values of best estimator = ', alpha[int(best_alpha/2)], \"The cross validation log loss is:\",log_loss(y_cv, predict_y, labels=clf.classes_, eps=1e-15))\n",
    "predict_y = sig_clf.predict_proba(test_x_onehotCoding)\n",
    "print('For values of best estimator = ', alpha[int(best_alpha/2)], \"The test log loss is:\",log_loss(y_test, predict_y, labels=clf.classes_, eps=1e-15))"
   ]
  },
  {
   "cell_type": "markdown",
   "metadata": {
    "id": "E3LW-91MOQ0M"
   },
   "source": [
    "<h3>4.5.3. Feature Importance</h3>"
   ]
  },
  {
   "cell_type": "markdown",
   "metadata": {
    "id": "kqP0GqsTOQ0N"
   },
   "source": [
    "<h4>4.5.3.1. Correctly Classified point</h4>"
   ]
  },
  {
   "cell_type": "code",
   "execution_count": null,
   "metadata": {
    "id": "pRpvSps1OQ0N",
    "outputId": "b959eecd-947e-40b4-8baa-0cebfa975ac8",
    "scrolled": false
   },
   "outputs": [
    {
     "name": "stdout",
     "output_type": "stream",
     "text": [
      "Predicted Class : 7\n",
      "Predicted Class Probabilities: [[0.0454 0.1404 0.0133 0.029  0.036  0.0294 0.6977 0.005  0.004 ]]\n",
      "Actual Class : 7\n",
      "--------------------------------------------------\n",
      "0 Text feature [inhibitors] present in test data point [True]\n",
      "1 Text feature [kinase] present in test data point [True]\n",
      "2 Text feature [activating] present in test data point [True]\n",
      "3 Text feature [tyrosine] present in test data point [True]\n",
      "4 Text feature [missense] present in test data point [True]\n",
      "5 Text feature [inhibitor] present in test data point [True]\n",
      "7 Text feature [treatment] present in test data point [True]\n",
      "8 Text feature [oncogenic] present in test data point [True]\n",
      "9 Text feature [suppressor] present in test data point [True]\n",
      "10 Text feature [activation] present in test data point [True]\n",
      "11 Text feature [phosphorylation] present in test data point [True]\n",
      "12 Text feature [kinases] present in test data point [True]\n",
      "13 Text feature [nonsense] present in test data point [True]\n",
      "14 Text feature [akt] present in test data point [True]\n",
      "15 Text feature [function] present in test data point [True]\n",
      "17 Text feature [erk] present in test data point [True]\n",
      "19 Text feature [growth] present in test data point [True]\n",
      "20 Text feature [variants] present in test data point [True]\n",
      "22 Text feature [frameshift] present in test data point [True]\n",
      "24 Text feature [therapeutic] present in test data point [True]\n",
      "25 Text feature [functional] present in test data point [True]\n",
      "28 Text feature [signaling] present in test data point [True]\n",
      "30 Text feature [patients] present in test data point [True]\n",
      "31 Text feature [cells] present in test data point [True]\n",
      "32 Text feature [constitutively] present in test data point [True]\n",
      "34 Text feature [trials] present in test data point [True]\n",
      "35 Text feature [therapy] present in test data point [True]\n",
      "37 Text feature [erk1] present in test data point [True]\n",
      "38 Text feature [activate] present in test data point [True]\n",
      "39 Text feature [downstream] present in test data point [True]\n",
      "41 Text feature [efficacy] present in test data point [True]\n",
      "42 Text feature [protein] present in test data point [True]\n",
      "43 Text feature [loss] present in test data point [True]\n",
      "44 Text feature [inhibited] present in test data point [True]\n",
      "45 Text feature [expressing] present in test data point [True]\n",
      "46 Text feature [pten] present in test data point [True]\n",
      "48 Text feature [lines] present in test data point [True]\n",
      "49 Text feature [treated] present in test data point [True]\n",
      "50 Text feature [proliferation] present in test data point [True]\n",
      "51 Text feature [drug] present in test data point [True]\n",
      "57 Text feature [mek] present in test data point [True]\n",
      "59 Text feature [inhibition] present in test data point [True]\n",
      "61 Text feature [repair] present in test data point [True]\n",
      "62 Text feature [sensitivity] present in test data point [True]\n",
      "64 Text feature [receptor] present in test data point [True]\n",
      "66 Text feature [assays] present in test data point [True]\n",
      "68 Text feature [survival] present in test data point [True]\n",
      "69 Text feature [cell] present in test data point [True]\n",
      "71 Text feature [ligand] present in test data point [True]\n",
      "73 Text feature [expression] present in test data point [True]\n",
      "74 Text feature [variant] present in test data point [True]\n",
      "75 Text feature [oncogene] present in test data point [True]\n",
      "78 Text feature [extracellular] present in test data point [True]\n",
      "79 Text feature [doses] present in test data point [True]\n",
      "80 Text feature [mapk] present in test data point [True]\n",
      "81 Text feature [hours] present in test data point [True]\n",
      "84 Text feature [information] present in test data point [True]\n",
      "86 Text feature [harboring] present in test data point [True]\n",
      "90 Text feature [dna] present in test data point [True]\n",
      "91 Text feature [concentrations] present in test data point [True]\n",
      "92 Text feature [likelihood] present in test data point [True]\n",
      "93 Text feature [months] present in test data point [True]\n",
      "94 Text feature [binding] present in test data point [True]\n",
      "96 Text feature [imatinib] present in test data point [True]\n",
      "98 Text feature [preclinical] present in test data point [True]\n",
      "Out of the top  100  features  65 are present in query point\n"
     ]
    }
   ],
   "source": [
    "test_point_index = 10\n",
    "clf = RandomForestClassifier(n_estimators=alpha[int(best_alpha/2)], criterion='gini', max_depth=max_depth[int(best_alpha%2)], random_state=42, n_jobs=-1)\n",
    "clf.fit(train_x_onehotCoding, train_y)\n",
    "sig_clf = CalibratedClassifierCV(clf, method=\"sigmoid\")\n",
    "sig_clf.fit(train_x_onehotCoding, train_y)\n",
    "\n",
    "test_point_index = 1\n",
    "no_feature = 100\n",
    "predicted_cls = sig_clf.predict(test_x_onehotCoding[test_point_index])\n",
    "print(\"Predicted Class :\", predicted_cls[0])\n",
    "print(\"Predicted Class Probabilities:\", np.round(sig_clf.predict_proba(test_x_onehotCoding[test_point_index]),4))\n",
    "print(\"Actual Class :\", test_y[test_point_index])\n",
    "indices = np.argsort(-clf.feature_importances_)\n",
    "print(\"-\"*50)\n",
    "get_impfeature_names(indices[:no_feature], test_df['TEXT'].iloc[test_point_index],test_df['Gene'].iloc[test_point_index],test_df['Variation'].iloc[test_point_index], no_feature)"
   ]
  },
  {
   "cell_type": "markdown",
   "metadata": {
    "id": "yobvR_gdOQ0O"
   },
   "source": [
    "<h4>4.5.3.2. Correctly Classified point</h4>"
   ]
  },
  {
   "cell_type": "code",
   "execution_count": null,
   "metadata": {
    "id": "clV1VBToOQ0R",
    "outputId": "f0eab711-1ce4-4290-f304-8c1dda45760b",
    "scrolled": false
   },
   "outputs": [
    {
     "name": "stdout",
     "output_type": "stream",
     "text": [
      "Predicted Class : 7\n",
      "Predicted Class Probabilities: [[0.1337 0.116  0.0224 0.1773 0.0674 0.0545 0.4156 0.0071 0.0059]]\n",
      "Actuall Class : 7\n",
      "--------------------------------------------------\n",
      "0 Text feature [inhibitors] present in test data point [True]\n",
      "1 Text feature [kinase] present in test data point [True]\n",
      "2 Text feature [activating] present in test data point [True]\n",
      "3 Text feature [tyrosine] present in test data point [True]\n",
      "6 Text feature [activated] present in test data point [True]\n",
      "8 Text feature [oncogenic] present in test data point [True]\n",
      "10 Text feature [activation] present in test data point [True]\n",
      "11 Text feature [phosphorylation] present in test data point [True]\n",
      "12 Text feature [kinases] present in test data point [True]\n",
      "14 Text feature [akt] present in test data point [True]\n",
      "15 Text feature [function] present in test data point [True]\n",
      "19 Text feature [growth] present in test data point [True]\n",
      "21 Text feature [constitutive] present in test data point [True]\n",
      "25 Text feature [functional] present in test data point [True]\n",
      "28 Text feature [signaling] present in test data point [True]\n",
      "31 Text feature [cells] present in test data point [True]\n",
      "32 Text feature [constitutively] present in test data point [True]\n",
      "38 Text feature [activate] present in test data point [True]\n",
      "39 Text feature [downstream] present in test data point [True]\n",
      "42 Text feature [protein] present in test data point [True]\n",
      "43 Text feature [loss] present in test data point [True]\n",
      "44 Text feature [inhibited] present in test data point [True]\n",
      "46 Text feature [pten] present in test data point [True]\n",
      "47 Text feature [transforming] present in test data point [True]\n",
      "48 Text feature [lines] present in test data point [True]\n",
      "50 Text feature [proliferation] present in test data point [True]\n",
      "53 Text feature [neutral] present in test data point [True]\n",
      "55 Text feature [transform] present in test data point [True]\n",
      "56 Text feature [stability] present in test data point [True]\n",
      "58 Text feature [transformation] present in test data point [True]\n",
      "59 Text feature [inhibition] present in test data point [True]\n",
      "62 Text feature [sensitivity] present in test data point [True]\n",
      "64 Text feature [receptor] present in test data point [True]\n",
      "66 Text feature [assays] present in test data point [True]\n",
      "69 Text feature [cell] present in test data point [True]\n",
      "75 Text feature [oncogene] present in test data point [True]\n",
      "84 Text feature [information] present in test data point [True]\n",
      "90 Text feature [dna] present in test data point [True]\n",
      "94 Text feature [binding] present in test data point [True]\n",
      "Out of the top  100  features  39 are present in query point\n"
     ]
    }
   ],
   "source": [
    "test_point_index = 100\n",
    "no_feature = 100\n",
    "predicted_cls = sig_clf.predict(test_x_onehotCoding[test_point_index])\n",
    "print(\"Predicted Class :\", predicted_cls[0])\n",
    "print(\"Predicted Class Probabilities:\", np.round(sig_clf.predict_proba(test_x_onehotCoding[test_point_index]),4))\n",
    "print(\"Actuall Class :\", test_y[test_point_index])\n",
    "indices = np.argsort(-clf.feature_importances_)\n",
    "print(\"-\"*50)\n",
    "get_impfeature_names(indices[:no_feature], test_df['TEXT'].iloc[test_point_index],test_df['Gene'].iloc[test_point_index],test_df['Variation'].iloc[test_point_index], no_feature)"
   ]
  },
  {
   "cell_type": "markdown",
   "metadata": {
    "id": "GVXbZt6xOQ1E"
   },
   "source": [
    "                                                "
   ]
  }
 ],
 "metadata": {
  "colab": {
   "collapsed_sections": [],
   "name": "PersonalizedCancerDiagnosis.ipynb",
   "provenance": []
  },
  "kernelspec": {
   "display_name": "Python 3",
   "language": "python",
   "name": "python3"
  },
  "language_info": {
   "codemirror_mode": {
    "name": "ipython",
    "version": 3
   },
   "file_extension": ".py",
   "mimetype": "text/x-python",
   "name": "python",
   "nbconvert_exporter": "python",
   "pygments_lexer": "ipython3",
   "version": "3.7.4"
  }
 },
 "nbformat": 4,
 "nbformat_minor": 1
}
